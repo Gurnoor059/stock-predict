{
 "cells": [
  {
   "cell_type": "markdown",
   "id": "15f7e769",
   "metadata": {},
   "source": [
    "# Stock Market Prediction"
   ]
  },
  {
   "cell_type": "code",
   "execution_count": 1,
   "id": "d9198602",
   "metadata": {},
   "outputs": [],
   "source": [
    "import pandas as pd"
   ]
  },
  {
   "cell_type": "code",
   "execution_count": 2,
   "id": "21aadf7d",
   "metadata": {},
   "outputs": [],
   "source": [
    "df=pd.read_csv('TATAMTR.csv')"
   ]
  },
  {
   "cell_type": "code",
   "execution_count": 3,
   "id": "d3c79eec",
   "metadata": {},
   "outputs": [
    {
     "data": {
      "text/html": [
       "<div>\n",
       "<style scoped>\n",
       "    .dataframe tbody tr th:only-of-type {\n",
       "        vertical-align: middle;\n",
       "    }\n",
       "\n",
       "    .dataframe tbody tr th {\n",
       "        vertical-align: top;\n",
       "    }\n",
       "\n",
       "    .dataframe thead th {\n",
       "        text-align: right;\n",
       "    }\n",
       "</style>\n",
       "<table border=\"1\" class=\"dataframe\">\n",
       "  <thead>\n",
       "    <tr style=\"text-align: right;\">\n",
       "      <th></th>\n",
       "      <th>Date</th>\n",
       "      <th>Open</th>\n",
       "      <th>High</th>\n",
       "      <th>Low</th>\n",
       "      <th>Close</th>\n",
       "      <th>Adj Close</th>\n",
       "      <th>Volume</th>\n",
       "    </tr>\n",
       "  </thead>\n",
       "  <tbody>\n",
       "    <tr>\n",
       "      <th>0</th>\n",
       "      <td>03-01-2000</td>\n",
       "      <td>39.744202</td>\n",
       "      <td>41.631699</td>\n",
       "      <td>39.744202</td>\n",
       "      <td>41.535900</td>\n",
       "      <td>13.432802</td>\n",
       "      <td>3528278.0</td>\n",
       "    </tr>\n",
       "    <tr>\n",
       "      <th>1</th>\n",
       "      <td>04-01-2000</td>\n",
       "      <td>41.583801</td>\n",
       "      <td>41.967098</td>\n",
       "      <td>39.475899</td>\n",
       "      <td>39.897499</td>\n",
       "      <td>12.902940</td>\n",
       "      <td>3544397.0</td>\n",
       "    </tr>\n",
       "    <tr>\n",
       "      <th>2</th>\n",
       "      <td>05-01-2000</td>\n",
       "      <td>37.176300</td>\n",
       "      <td>41.737099</td>\n",
       "      <td>37.176300</td>\n",
       "      <td>40.865200</td>\n",
       "      <td>13.215897</td>\n",
       "      <td>5849541.0</td>\n",
       "    </tr>\n",
       "    <tr>\n",
       "      <th>3</th>\n",
       "      <td>06-01-2000</td>\n",
       "      <td>41.200600</td>\n",
       "      <td>44.055901</td>\n",
       "      <td>41.200600</td>\n",
       "      <td>42.561199</td>\n",
       "      <td>13.764388</td>\n",
       "      <td>10274967.0</td>\n",
       "    </tr>\n",
       "    <tr>\n",
       "      <th>4</th>\n",
       "      <td>07-01-2000</td>\n",
       "      <td>42.925301</td>\n",
       "      <td>45.972198</td>\n",
       "      <td>42.752800</td>\n",
       "      <td>45.972198</td>\n",
       "      <td>14.867510</td>\n",
       "      <td>11477452.0</td>\n",
       "    </tr>\n",
       "  </tbody>\n",
       "</table>\n",
       "</div>"
      ],
      "text/plain": [
       "         Date       Open       High        Low      Close  Adj Close  \\\n",
       "0  03-01-2000  39.744202  41.631699  39.744202  41.535900  13.432802   \n",
       "1  04-01-2000  41.583801  41.967098  39.475899  39.897499  12.902940   \n",
       "2  05-01-2000  37.176300  41.737099  37.176300  40.865200  13.215897   \n",
       "3  06-01-2000  41.200600  44.055901  41.200600  42.561199  13.764388   \n",
       "4  07-01-2000  42.925301  45.972198  42.752800  45.972198  14.867510   \n",
       "\n",
       "       Volume  \n",
       "0   3528278.0  \n",
       "1   3544397.0  \n",
       "2   5849541.0  \n",
       "3  10274967.0  \n",
       "4  11477452.0  "
      ]
     },
     "execution_count": 3,
     "metadata": {},
     "output_type": "execute_result"
    }
   ],
   "source": [
    "df.head()"
   ]
  },
  {
   "cell_type": "code",
   "execution_count": 4,
   "id": "a73e16cf",
   "metadata": {},
   "outputs": [
    {
     "data": {
      "text/html": [
       "<div>\n",
       "<style scoped>\n",
       "    .dataframe tbody tr th:only-of-type {\n",
       "        vertical-align: middle;\n",
       "    }\n",
       "\n",
       "    .dataframe tbody tr th {\n",
       "        vertical-align: top;\n",
       "    }\n",
       "\n",
       "    .dataframe thead th {\n",
       "        text-align: right;\n",
       "    }\n",
       "</style>\n",
       "<table border=\"1\" class=\"dataframe\">\n",
       "  <thead>\n",
       "    <tr style=\"text-align: right;\">\n",
       "      <th></th>\n",
       "      <th>Date</th>\n",
       "      <th>Open</th>\n",
       "      <th>High</th>\n",
       "      <th>Low</th>\n",
       "      <th>Close</th>\n",
       "      <th>Adj Close</th>\n",
       "      <th>Volume</th>\n",
       "    </tr>\n",
       "  </thead>\n",
       "  <tbody>\n",
       "    <tr>\n",
       "      <th>4681</th>\n",
       "      <td>27-08-2018</td>\n",
       "      <td>257.000000</td>\n",
       "      <td>259.50</td>\n",
       "      <td>256.500000</td>\n",
       "      <td>258.799988</td>\n",
       "      <td>258.799988</td>\n",
       "      <td>6127707.0</td>\n",
       "    </tr>\n",
       "    <tr>\n",
       "      <th>4682</th>\n",
       "      <td>28-08-2018</td>\n",
       "      <td>261.700012</td>\n",
       "      <td>263.25</td>\n",
       "      <td>259.049988</td>\n",
       "      <td>260.000000</td>\n",
       "      <td>260.000000</td>\n",
       "      <td>8506857.0</td>\n",
       "    </tr>\n",
       "    <tr>\n",
       "      <th>4683</th>\n",
       "      <td>29-08-2018</td>\n",
       "      <td>261.049988</td>\n",
       "      <td>263.50</td>\n",
       "      <td>261.000000</td>\n",
       "      <td>261.700012</td>\n",
       "      <td>261.700012</td>\n",
       "      <td>5117552.0</td>\n",
       "    </tr>\n",
       "    <tr>\n",
       "      <th>4684</th>\n",
       "      <td>30-08-2018</td>\n",
       "      <td>262.299988</td>\n",
       "      <td>263.00</td>\n",
       "      <td>259.000000</td>\n",
       "      <td>259.350006</td>\n",
       "      <td>259.350006</td>\n",
       "      <td>6333570.0</td>\n",
       "    </tr>\n",
       "    <tr>\n",
       "      <th>4685</th>\n",
       "      <td>31-08-2018</td>\n",
       "      <td>259.100006</td>\n",
       "      <td>268.25</td>\n",
       "      <td>258.100006</td>\n",
       "      <td>267.500000</td>\n",
       "      <td>267.500000</td>\n",
       "      <td>12360023.0</td>\n",
       "    </tr>\n",
       "  </tbody>\n",
       "</table>\n",
       "</div>"
      ],
      "text/plain": [
       "            Date        Open    High         Low       Close   Adj Close  \\\n",
       "4681  27-08-2018  257.000000  259.50  256.500000  258.799988  258.799988   \n",
       "4682  28-08-2018  261.700012  263.25  259.049988  260.000000  260.000000   \n",
       "4683  29-08-2018  261.049988  263.50  261.000000  261.700012  261.700012   \n",
       "4684  30-08-2018  262.299988  263.00  259.000000  259.350006  259.350006   \n",
       "4685  31-08-2018  259.100006  268.25  258.100006  267.500000  267.500000   \n",
       "\n",
       "          Volume  \n",
       "4681   6127707.0  \n",
       "4682   8506857.0  \n",
       "4683   5117552.0  \n",
       "4684   6333570.0  \n",
       "4685  12360023.0  "
      ]
     },
     "execution_count": 4,
     "metadata": {},
     "output_type": "execute_result"
    }
   ],
   "source": [
    "df.tail()"
   ]
  },
  {
   "cell_type": "code",
   "execution_count": 5,
   "id": "1c93f731",
   "metadata": {},
   "outputs": [
    {
     "data": {
      "text/plain": [
       "Index(['Date', 'Open', 'High', 'Low', 'Close', 'Adj Close', 'Volume'], dtype='object')"
      ]
     },
     "execution_count": 5,
     "metadata": {},
     "output_type": "execute_result"
    }
   ],
   "source": [
    "df.columns"
   ]
  },
  {
   "cell_type": "code",
   "execution_count": 6,
   "id": "95acd79b",
   "metadata": {},
   "outputs": [
    {
     "data": {
      "text/plain": [
       "<Axes: >"
      ]
     },
     "execution_count": 6,
     "metadata": {},
     "output_type": "execute_result"
    },
    {
     "data": {
      "image/png": "[encoded data removed]",
      "text/plain": [
       "<Figure size 640x480 with 1 Axes>"
      ]
     },
     "metadata": {},
     "output_type": "display_data"
    }
   ],
   "source": [
    "import seaborn as sns\n",
    "sns.boxplot(df['Volume'])"
   ]
  },
  {
   "cell_type": "code",
   "execution_count": 7,
   "id": "052fe400",
   "metadata": {},
   "outputs": [],
   "source": [
    "columns_list = ['Close']  # Replace column1, column2, column3 with your column names\n",
    "df.dropna(subset=columns_list, inplace=True)"
   ]
  },
  {
   "cell_type": "code",
   "execution_count": 8,
   "id": "9177f47d",
   "metadata": {},
   "outputs": [],
   "source": [
    "df1=df.reset_index()['Close']"
   ]
  },
  {
   "cell_type": "code",
   "execution_count": 9,
   "id": "d2584c04",
   "metadata": {},
   "outputs": [
    {
     "data": {
      "text/plain": [
       "(4625,)"
      ]
     },
     "execution_count": 9,
     "metadata": {},
     "output_type": "execute_result"
    }
   ],
   "source": [
    "df1.shape"
   ]
  },
  {
   "cell_type": "code",
   "execution_count": 10,
   "id": "6115c584",
   "metadata": {},
   "outputs": [
    {
     "data": {
      "text/plain": [
       "0        41.535900\n",
       "1        39.897499\n",
       "2        40.865200\n",
       "3        42.561199\n",
       "4        45.972198\n",
       "           ...    \n",
       "4620    258.799988\n",
       "4621    260.000000\n",
       "4622    261.700012\n",
       "4623    259.350006\n",
       "4624    267.500000\n",
       "Name: Close, Length: 4625, dtype: float64"
      ]
     },
     "execution_count": 10,
     "metadata": {},
     "output_type": "execute_result"
    }
   ],
   "source": [
    "df1"
   ]
  },
  {
   "cell_type": "code",
   "execution_count": 11,
   "id": "601fff35",
   "metadata": {},
   "outputs": [
    {
     "data": {
      "text/plain": [
       "[<matplotlib.lines.Line2D at 0x20d68ffd2d0>]"
      ]
     },
     "execution_count": 11,
     "metadata": {},
     "output_type": "execute_result"
    },
    {
     "data": {
      "image/png": "[encoded data removed]",
      "text/plain": [
       "<Figure size 640x480 with 1 Axes>"
      ]
     },
     "metadata": {},
     "output_type": "display_data"
    }
   ],
   "source": [
    "import matplotlib.pyplot as plt\n",
    "plt.plot(df1)"
   ]
  },
  {
   "cell_type": "code",
   "execution_count": 12,
   "id": "e41a1a94",
   "metadata": {},
   "outputs": [
    {
     "data": {
      "image/png": "[encoded data removed]",
      "text/plain": [
       "<Figure size 640x480 with 1 Axes>"
      ]
     },
     "metadata": {},
     "output_type": "display_data"
    }
   ],
   "source": [
    "df['Open'].hist()\n",
    "plt.title('Histogram of Open Prices')\n",
    "plt.xlabel('Open ')\n",
    "plt.ylabel('Volume')\n",
    "plt.show()\n"
   ]
  },
  {
   "cell_type": "code",
   "execution_count": 33,
   "id": "cccbc767",
   "metadata": {},
   "outputs": [
    {
     "data": {
      "image/png": "[encoded data removed]",
      "text/plain": [
       "<Figure size 640x480 with 1 Axes>"
      ]
     },
     "metadata": {},
     "output_type": "display_data"
    }
   ],
   "source": [
    "sns.boxplot(x='High', data=df)\n",
    "plt.title('Boxplot of High ')\n",
    "plt.show()\n"
   ]
  },
  {
   "cell_type": "code",
   "execution_count": 14,
   "id": "0c5f465e",
   "metadata": {},
   "outputs": [],
   "source": [
    "import numpy as np"
   ]
  },
  {
   "cell_type": "code",
   "execution_count": 15,
   "id": "6948b49d",
   "metadata": {},
   "outputs": [
    {
     "data": {
      "image/png": "[encoded data removed]",
      "text/plain": [
       "<Figure size 640x480 with 1 Axes>"
      ]
     },
     "metadata": {},
     "output_type": "display_data"
    }
   ],
   "source": [
    "sns.set(style=\"whitegrid\")\n",
    "palette = sns.color_palette(\"muted\")\n",
    "sns.violinplot(x='High', y='Volume', data=df)\n",
    "plt.title('Violin Plot')\n",
    "plt.show()"
   ]
  },
  {
   "cell_type": "code",
   "execution_count": 16,
   "id": "c34335e5",
   "metadata": {},
   "outputs": [],
   "source": [
    "from sklearn.preprocessing import MinMaxScaler\n",
    "scaler=MinMaxScaler(feature_range=(0,1))\n",
    "df1=scaler.fit_transform(np.array(df1).reshape(-1,1))"
   ]
  },
  {
   "cell_type": "code",
   "execution_count": 17,
   "id": "eb3ed323",
   "metadata": {},
   "outputs": [
    {
     "data": {
      "text/plain": [
       "array([[0.05157565],\n",
       "       [0.04878387],\n",
       "       [0.0504328 ],\n",
       "       ...,\n",
       "       [0.42672788],\n",
       "       [0.42272354],\n",
       "       [0.43661086]])"
      ]
     },
     "execution_count": 17,
     "metadata": {},
     "output_type": "execute_result"
    }
   ],
   "source": [
    "df1"
   ]
  },
  {
   "cell_type": "code",
   "execution_count": 18,
   "id": "20cad347",
   "metadata": {},
   "outputs": [
    {
     "data": {
      "text/plain": [
       "(4625, 1)"
      ]
     },
     "execution_count": 18,
     "metadata": {},
     "output_type": "execute_result"
    }
   ],
   "source": [
    "df1.shape"
   ]
  },
  {
   "cell_type": "code",
   "execution_count": 19,
   "id": "d33017fc",
   "metadata": {},
   "outputs": [],
   "source": [
    "training_size=int(len(df1)*0.65)\n",
    "test_size=len(df1)-training_size\n",
    "train_data,test_data=df1[0:training_size,:],df1[training_size:len(df1),:1]"
   ]
  },
  {
   "cell_type": "code",
   "execution_count": 20,
   "id": "18611995",
   "metadata": {},
   "outputs": [
    {
     "data": {
      "text/plain": [
       "(3006, 1619)"
      ]
     },
     "execution_count": 20,
     "metadata": {},
     "output_type": "execute_result"
    }
   ],
   "source": [
    "training_size,test_size"
   ]
  },
  {
   "cell_type": "code",
   "execution_count": 21,
   "id": "d4ec4526",
   "metadata": {},
   "outputs": [
    {
     "data": {
      "text/plain": [
       "(3006, 1619)"
      ]
     },
     "execution_count": 21,
     "metadata": {},
     "output_type": "execute_result"
    }
   ],
   "source": [
    "len(train_data),len(test_data)"
   ]
  },
  {
   "cell_type": "code",
   "execution_count": 22,
   "id": "1eeb6414",
   "metadata": {},
   "outputs": [
    {
     "data": {
      "text/plain": [
       "array([[0.05157565],\n",
       "       [0.04878387],\n",
       "       [0.0504328 ],\n",
       "       ...,\n",
       "       [0.39628651],\n",
       "       [0.39830911],\n",
       "       [0.4052204 ]])"
      ]
     },
     "execution_count": 22,
     "metadata": {},
     "output_type": "execute_result"
    }
   ],
   "source": [
    "train_data"
   ]
  },
  {
   "cell_type": "code",
   "execution_count": 23,
   "id": "03ed1400",
   "metadata": {},
   "outputs": [],
   "source": [
    "import numpy\n",
    "def create_dataset(dataset,time_step=1):\n",
    "    dataX,dataY=[],[]\n",
    "    for i in range(len(dataset)-time_step-1):\n",
    "        a=dataset[i:(i+time_step),0]\n",
    "        dataX.append(a)\n",
    "        dataY.append(dataset[i+time_step,0])\n",
    "    return numpy.array(dataX),numpy.array(dataY)"
   ]
  },
  {
   "cell_type": "code",
   "execution_count": 24,
   "id": "ad94c330",
   "metadata": {},
   "outputs": [],
   "source": [
    "time_step=100\n",
    "X_train,y_train = create_dataset(train_data,time_step)\n",
    "X_test,ytest = create_dataset(test_data,time_step)"
   ]
  },
  {
   "cell_type": "code",
   "execution_count": 25,
   "id": "ba8e095d",
   "metadata": {},
   "outputs": [
    {
     "name": "stdout",
     "output_type": "stream",
     "text": [
      "(2905, 100)\n",
      "(2905,)\n"
     ]
    },
    {
     "data": {
      "text/plain": [
       "(None, None)"
      ]
     },
     "execution_count": 25,
     "metadata": {},
     "output_type": "execute_result"
    }
   ],
   "source": [
    "print(X_train.shape),print(y_train.shape)"
   ]
  },
  {
   "cell_type": "code",
   "execution_count": 26,
   "id": "c547ce86",
   "metadata": {},
   "outputs": [
    {
     "name": "stdout",
     "output_type": "stream",
     "text": [
      "(1518, 100)\n",
      "(1518,)\n"
     ]
    },
    {
     "data": {
      "text/plain": [
       "(None, None)"
      ]
     },
     "execution_count": 26,
     "metadata": {},
     "output_type": "execute_result"
    }
   ],
   "source": [
    "print(X_test.shape),print(ytest.shape)"
   ]
  },
  {
   "cell_type": "code",
   "execution_count": 27,
   "id": "f796ef10",
   "metadata": {},
   "outputs": [],
   "source": [
    "X_train=X_train.reshape(X_train.shape[0],X_train.shape[1],1)\n",
    "X_test=X_test.reshape(X_test.shape[0],X_test.shape[1],1)"
   ]
  },
  {
   "cell_type": "code",
   "execution_count": 28,
   "id": "f7aae706",
   "metadata": {},
   "outputs": [
    {
     "name": "stdout",
     "output_type": "stream",
     "text": [
      "Requirement already satisfied: tensorflow in c:\\users\\gurno\\anaconda3\\lib\\site-packages (2.16.1)\n",
      "Requirement already satisfied: tensorflow-intel==2.16.1 in c:\\users\\gurno\\anaconda3\\lib\\site-packages (from tensorflow) (2.16.1)\n",
      "Requirement already satisfied: absl-py>=1.0.0 in c:\\users\\gurno\\anaconda3\\lib\\site-packages (from tensorflow-intel==2.16.1->tensorflow) (2.1.0)\n",
      "Requirement already satisfied: astunparse>=1.6.0 in c:\\users\\gurno\\anaconda3\\lib\\site-packages (from tensorflow-intel==2.16.1->tensorflow) (1.6.3)\n",
      "Requirement already satisfied: flatbuffers>=23.5.26 in c:\\users\\gurno\\anaconda3\\lib\\site-packages (from tensorflow-intel==2.16.1->tensorflow) (24.3.25)\n",
      "Requirement already satisfied: gast!=0.5.0,!=0.5.1,!=0.5.2,>=0.2.1 in c:\\users\\gurno\\anaconda3\\lib\\site-packages (from tensorflow-intel==2.16.1->tensorflow) (0.5.4)\n",
      "Requirement already satisfied: google-pasta>=0.1.1 in c:\\users\\gurno\\anaconda3\\lib\\site-packages (from tensorflow-intel==2.16.1->tensorflow) (0.2.0)\n",
      "Requirement already satisfied: h5py>=3.10.0 in c:\\users\\gurno\\anaconda3\\lib\\site-packages (from tensorflow-intel==2.16.1->tensorflow) (3.11.0)\n",
      "Requirement already satisfied: libclang>=13.0.0 in c:\\users\\gurno\\anaconda3\\lib\\site-packages (from tensorflow-intel==2.16.1->tensorflow) (18.1.1)\n",
      "Requirement already satisfied: ml-dtypes~=0.3.1 in c:\\users\\gurno\\anaconda3\\lib\\site-packages (from tensorflow-intel==2.16.1->tensorflow) (0.3.2)\n",
      "Requirement already satisfied: opt-einsum>=2.3.2 in c:\\users\\gurno\\anaconda3\\lib\\site-packages (from tensorflow-intel==2.16.1->tensorflow) (3.3.0)\n",
      "Requirement already satisfied: packaging in c:\\users\\gurno\\anaconda3\\lib\\site-packages (from tensorflow-intel==2.16.1->tensorflow) (23.1)\n",
      "Requirement already satisfied: protobuf!=4.21.0,!=4.21.1,!=4.21.2,!=4.21.3,!=4.21.4,!=4.21.5,<5.0.0dev,>=3.20.3 in c:\\users\\gurno\\anaconda3\\lib\\site-packages (from tensorflow-intel==2.16.1->tensorflow) (4.25.3)\n",
      "Requirement already satisfied: requests<3,>=2.21.0 in c:\\users\\gurno\\anaconda3\\lib\\site-packages (from tensorflow-intel==2.16.1->tensorflow) (2.31.0)\n",
      "Requirement already satisfied: setuptools in c:\\users\\gurno\\anaconda3\\lib\\site-packages (from tensorflow-intel==2.16.1->tensorflow) (68.0.0)\n",
      "Requirement already satisfied: six>=1.12.0 in c:\\users\\gurno\\anaconda3\\lib\\site-packages (from tensorflow-intel==2.16.1->tensorflow) (1.16.0)\n",
      "Requirement already satisfied: termcolor>=1.1.0 in c:\\users\\gurno\\anaconda3\\lib\\site-packages (from tensorflow-intel==2.16.1->tensorflow) (2.4.0)\n",
      "Requirement already satisfied: typing-extensions>=3.6.6 in c:\\users\\gurno\\anaconda3\\lib\\site-packages (from tensorflow-intel==2.16.1->tensorflow) (4.7.1)\n",
      "Requirement already satisfied: wrapt>=1.11.0 in c:\\users\\gurno\\anaconda3\\lib\\site-packages (from tensorflow-intel==2.16.1->tensorflow) (1.14.1)\n",
      "Requirement already satisfied: grpcio<2.0,>=1.24.3 in c:\\users\\gurno\\anaconda3\\lib\\site-packages (from tensorflow-intel==2.16.1->tensorflow) (1.62.2)\n",
      "Requirement already satisfied: tensorboard<2.17,>=2.16 in c:\\users\\gurno\\anaconda3\\lib\\site-packages (from tensorflow-intel==2.16.1->tensorflow) (2.16.2)\n",
      "Requirement already satisfied: keras>=3.0.0 in c:\\users\\gurno\\anaconda3\\lib\\site-packages (from tensorflow-intel==2.16.1->tensorflow) (3.3.3)\n",
      "Requirement already satisfied: tensorflow-io-gcs-filesystem>=0.23.1 in c:\\users\\gurno\\anaconda3\\lib\\site-packages (from tensorflow-intel==2.16.1->tensorflow) (0.31.0)\n",
      "Requirement already satisfied: numpy<2.0.0,>=1.23.5 in c:\\users\\gurno\\anaconda3\\lib\\site-packages (from tensorflow-intel==2.16.1->tensorflow) (1.24.3)\n",
      "Requirement already satisfied: wheel<1.0,>=0.23.0 in c:\\users\\gurno\\anaconda3\\lib\\site-packages (from astunparse>=1.6.0->tensorflow-intel==2.16.1->tensorflow) (0.38.4)\n",
      "Requirement already satisfied: rich in c:\\users\\gurno\\anaconda3\\lib\\site-packages (from keras>=3.0.0->tensorflow-intel==2.16.1->tensorflow) (13.7.1)\n",
      "Requirement already satisfied: namex in c:\\users\\gurno\\anaconda3\\lib\\site-packages (from keras>=3.0.0->tensorflow-intel==2.16.1->tensorflow) (0.0.8)\n",
      "Requirement already satisfied: optree in c:\\users\\gurno\\anaconda3\\lib\\site-packages (from keras>=3.0.0->tensorflow-intel==2.16.1->tensorflow) (0.11.0)\n",
      "Requirement already satisfied: charset-normalizer<4,>=2 in c:\\users\\gurno\\anaconda3\\lib\\site-packages (from requests<3,>=2.21.0->tensorflow-intel==2.16.1->tensorflow) (2.0.4)\n",
      "Requirement already satisfied: idna<4,>=2.5 in c:\\users\\gurno\\anaconda3\\lib\\site-packages (from requests<3,>=2.21.0->tensorflow-intel==2.16.1->tensorflow) (3.4)\n",
      "Requirement already satisfied: urllib3<3,>=1.21.1 in c:\\users\\gurno\\anaconda3\\lib\\site-packages (from requests<3,>=2.21.0->tensorflow-intel==2.16.1->tensorflow) (1.26.16)\n",
      "Requirement already satisfied: certifi>=2017.4.17 in c:\\users\\gurno\\anaconda3\\lib\\site-packages (from requests<3,>=2.21.0->tensorflow-intel==2.16.1->tensorflow) (2023.7.22)\n",
      "Requirement already satisfied: markdown>=2.6.8 in c:\\users\\gurno\\anaconda3\\lib\\site-packages (from tensorboard<2.17,>=2.16->tensorflow-intel==2.16.1->tensorflow) (3.4.1)\n",
      "Requirement already satisfied: tensorboard-data-server<0.8.0,>=0.7.0 in c:\\users\\gurno\\anaconda3\\lib\\site-packages (from tensorboard<2.17,>=2.16->tensorflow-intel==2.16.1->tensorflow) (0.7.2)\n",
      "Requirement already satisfied: werkzeug>=1.0.1 in c:\\users\\gurno\\anaconda3\\lib\\site-packages (from tensorboard<2.17,>=2.16->tensorflow-intel==2.16.1->tensorflow) (2.2.3)\n",
      "Requirement already satisfied: MarkupSafe>=2.1.1 in c:\\users\\gurno\\anaconda3\\lib\\site-packages (from werkzeug>=1.0.1->tensorboard<2.17,>=2.16->tensorflow-intel==2.16.1->tensorflow) (2.1.1)\n",
      "Requirement already satisfied: markdown-it-py>=2.2.0 in c:\\users\\gurno\\anaconda3\\lib\\site-packages (from rich->keras>=3.0.0->tensorflow-intel==2.16.1->tensorflow) (2.2.0)\n",
      "Requirement already satisfied: pygments<3.0.0,>=2.13.0 in c:\\users\\gurno\\anaconda3\\lib\\site-packages (from rich->keras>=3.0.0->tensorflow-intel==2.16.1->tensorflow) (2.15.1)\n",
      "Requirement already satisfied: mdurl~=0.1 in c:\\users\\gurno\\anaconda3\\lib\\site-packages (from markdown-it-py>=2.2.0->rich->keras>=3.0.0->tensorflow-intel==2.16.1->tensorflow) (0.1.0)\n",
      "Note: you may need to restart the kernel to use updated packages.\n"
     ]
    }
   ],
   "source": [
    "pip install tensorflow"
   ]
  },
  {
   "cell_type": "code",
   "execution_count": 29,
   "id": "2109e427",
   "metadata": {},
   "outputs": [],
   "source": [
    "###Create the stacked LSTM Model\n",
    "from tensorflow.keras.models import Sequential\n",
    "from tensorflow.keras.layers import Dense\n",
    "from tensorflow.keras.layers import LSTM"
   ]
  },
  {
   "cell_type": "code",
   "execution_count": 30,
   "id": "c771ed90",
   "metadata": {},
   "outputs": [
    {
     "name": "stderr",
     "output_type": "stream",
     "text": [
      "C:\\Users\\gurno\\anaconda3\\Lib\\site-packages\\keras\\src\\layers\\rnn\\rnn.py:204: UserWarning: Do not pass an `input_shape`/`input_dim` argument to a layer. When using Sequential models, prefer using an `Input(shape)` object as the first layer in the model instead.\n",
      "  super().__init__(**kwargs)\n"
     ]
    }
   ],
   "source": [
    "model= Sequential()\n",
    "model.add(LSTM(50,return_sequences=True,input_shape=(100,1)))\n",
    "model.add(LSTM(50,return_sequences=True))\n",
    "model.add(LSTM(50))\n",
    "model.add(Dense(1))\n",
    "model.compile(loss='mean_squared_error',optimizer='adam')"
   ]
  },
  {
   "cell_type": "code",
   "execution_count": 31,
   "id": "f4b1704a",
   "metadata": {},
   "outputs": [
    {
     "data": {
      "text/html": [
       "<pre style=\"white-space:pre;overflow-x:auto;line-height:normal;font-family:Menlo,'DejaVu Sans Mono',consolas,'Courier New',monospace\"><span style=\"font-weight: bold\">Model: \"sequential\"</span>\n",
       "</pre>\n"
      ],
      "text/plain": [
       "\u001b[1mModel: \"sequential\"\u001b[0m\n"
      ]
     },
     "metadata": {},
     "output_type": "display_data"
    },
    {
     "data": {
      "text/html": [
       "<pre style=\"white-space:pre;overflow-x:auto;line-height:normal;font-family:Menlo,'DejaVu Sans Mono',consolas,'Courier New',monospace\">┏━━━━━━━━━━━━━━━━━━━━━━━━━━━━━━━━━┳━━━━━━━━━━━━━━━━━━━━━━━━┳━━━━━━━━━━━━━━━┓\n",
       "┃<span style=\"font-weight: bold\"> Layer (type)                    </span>┃<span style=\"font-weight: bold\"> Output Shape           </span>┃<span style=\"font-weight: bold\">       Param # </span>┃\n",
       "┡━━━━━━━━━━━━━━━━━━━━━━━━━━━━━━━━━╇━━━━━━━━━━━━━━━━━━━━━━━━╇━━━━━━━━━━━━━━━┩\n",
       "│ lstm (<span style=\"color: #0087ff; text-decoration-color: #0087ff\">LSTM</span>)                     │ (<span style=\"color: #00d7ff; text-decoration-color: #00d7ff\">None</span>, <span style=\"color: #00af00; text-decoration-color: #00af00\">100</span>, <span style=\"color: #00af00; text-decoration-color: #00af00\">50</span>)        │        <span style=\"color: #00af00; text-decoration-color: #00af00\">10,400</span> │\n",
       "├─────────────────────────────────┼────────────────────────┼───────────────┤\n",
       "│ lstm_1 (<span style=\"color: #0087ff; text-decoration-color: #0087ff\">LSTM</span>)                   │ (<span style=\"color: #00d7ff; text-decoration-color: #00d7ff\">None</span>, <span style=\"color: #00af00; text-decoration-color: #00af00\">100</span>, <span style=\"color: #00af00; text-decoration-color: #00af00\">50</span>)        │        <span style=\"color: #00af00; text-decoration-color: #00af00\">20,200</span> │\n",
       "├─────────────────────────────────┼────────────────────────┼───────────────┤\n",
       "│ lstm_2 (<span style=\"color: #0087ff; text-decoration-color: #0087ff\">LSTM</span>)                   │ (<span style=\"color: #00d7ff; text-decoration-color: #00d7ff\">None</span>, <span style=\"color: #00af00; text-decoration-color: #00af00\">50</span>)             │        <span style=\"color: #00af00; text-decoration-color: #00af00\">20,200</span> │\n",
       "├─────────────────────────────────┼────────────────────────┼───────────────┤\n",
       "│ dense (<span style=\"color: #0087ff; text-decoration-color: #0087ff\">Dense</span>)                   │ (<span style=\"color: #00d7ff; text-decoration-color: #00d7ff\">None</span>, <span style=\"color: #00af00; text-decoration-color: #00af00\">1</span>)              │            <span style=\"color: #00af00; text-decoration-color: #00af00\">51</span> │\n",
       "└─────────────────────────────────┴────────────────────────┴───────────────┘\n",
       "</pre>\n"
      ],
      "text/plain": [
       "┏━━━━━━━━━━━━━━━━━━━━━━━━━━━━━━━━━┳━━━━━━━━━━━━━━━━━━━━━━━━┳━━━━━━━━━━━━━━━┓\n",
       "┃\u001b[1m \u001b[0m\u001b[1mLayer (type)                   \u001b[0m\u001b[1m \u001b[0m┃\u001b[1m \u001b[0m\u001b[1mOutput Shape          \u001b[0m\u001b[1m \u001b[0m┃\u001b[1m \u001b[0m\u001b[1m      Param #\u001b[0m\u001b[1m \u001b[0m┃\n",
       "┡━━━━━━━━━━━━━━━━━━━━━━━━━━━━━━━━━╇━━━━━━━━━━━━━━━━━━━━━━━━╇━━━━━━━━━━━━━━━┩\n",
       "│ lstm (\u001b[38;5;33mLSTM\u001b[0m)                     │ (\u001b[38;5;45mNone\u001b[0m, \u001b[38;5;34m100\u001b[0m, \u001b[38;5;34m50\u001b[0m)        │        \u001b[38;5;34m10,400\u001b[0m │\n",
       "├─────────────────────────────────┼────────────────────────┼───────────────┤\n",
       "│ lstm_1 (\u001b[38;5;33mLSTM\u001b[0m)                   │ (\u001b[38;5;45mNone\u001b[0m, \u001b[38;5;34m100\u001b[0m, \u001b[38;5;34m50\u001b[0m)        │        \u001b[38;5;34m20,200\u001b[0m │\n",
       "├─────────────────────────────────┼────────────────────────┼───────────────┤\n",
       "│ lstm_2 (\u001b[38;5;33mLSTM\u001b[0m)                   │ (\u001b[38;5;45mNone\u001b[0m, \u001b[38;5;34m50\u001b[0m)             │        \u001b[38;5;34m20,200\u001b[0m │\n",
       "├─────────────────────────────────┼────────────────────────┼───────────────┤\n",
       "│ dense (\u001b[38;5;33mDense\u001b[0m)                   │ (\u001b[38;5;45mNone\u001b[0m, \u001b[38;5;34m1\u001b[0m)              │            \u001b[38;5;34m51\u001b[0m │\n",
       "└─────────────────────────────────┴────────────────────────┴───────────────┘\n"
      ]
     },
     "metadata": {},
     "output_type": "display_data"
    },
    {
     "data": {
      "text/html": [
       "<pre style=\"white-space:pre;overflow-x:auto;line-height:normal;font-family:Menlo,'DejaVu Sans Mono',consolas,'Courier New',monospace\"><span style=\"font-weight: bold\"> Total params: </span><span style=\"color: #00af00; text-decoration-color: #00af00\">50,851</span> (198.64 KB)\n",
       "</pre>\n"
      ],
      "text/plain": [
       "\u001b[1m Total params: \u001b[0m\u001b[38;5;34m50,851\u001b[0m (198.64 KB)\n"
      ]
     },
     "metadata": {},
     "output_type": "display_data"
    },
    {
     "data": {
      "text/html": [
       "<pre style=\"white-space:pre;overflow-x:auto;line-height:normal;font-family:Menlo,'DejaVu Sans Mono',consolas,'Courier New',monospace\"><span style=\"font-weight: bold\"> Trainable params: </span><span style=\"color: #00af00; text-decoration-color: #00af00\">50,851</span> (198.64 KB)\n",
       "</pre>\n"
      ],
      "text/plain": [
       "\u001b[1m Trainable params: \u001b[0m\u001b[38;5;34m50,851\u001b[0m (198.64 KB)\n"
      ]
     },
     "metadata": {},
     "output_type": "display_data"
    },
    {
     "data": {
      "text/html": [
       "<pre style=\"white-space:pre;overflow-x:auto;line-height:normal;font-family:Menlo,'DejaVu Sans Mono',consolas,'Courier New',monospace\"><span style=\"font-weight: bold\"> Non-trainable params: </span><span style=\"color: #00af00; text-decoration-color: #00af00\">0</span> (0.00 B)\n",
       "</pre>\n"
      ],
      "text/plain": [
       "\u001b[1m Non-trainable params: \u001b[0m\u001b[38;5;34m0\u001b[0m (0.00 B)\n"
      ]
     },
     "metadata": {},
     "output_type": "display_data"
    }
   ],
   "source": [
    "model.summary()"
   ]
  },
  {
   "cell_type": "code",
   "execution_count": 32,
   "id": "3c54e1c9",
   "metadata": {},
   "outputs": [
    {
     "name": "stdout",
     "output_type": "stream",
     "text": [
      "Epoch 1/100\n",
      "\u001b[1m46/46\u001b[0m \u001b[32m━━━━━━━━━━━━━━━━━━━━\u001b[0m\u001b[37m\u001b[0m \u001b[1m21s\u001b[0m 262ms/step - loss: 0.0083 - val_loss: 0.0038\n",
      "Epoch 2/100\n",
      "\u001b[1m46/46\u001b[0m \u001b[32m━━━━━━━━━━━━━━━━━━━━\u001b[0m\u001b[37m\u001b[0m \u001b[1m11s\u001b[0m 242ms/step - loss: 2.7583e-04 - val_loss: 0.0035\n",
      "Epoch 3/100\n",
      "\u001b[1m46/46\u001b[0m \u001b[32m━━━━━━━━━━━━━━━━━━━━\u001b[0m\u001b[37m\u001b[0m \u001b[1m10s\u001b[0m 211ms/step - loss: 2.1883e-04 - val_loss: 0.0043\n",
      "Epoch 4/100\n",
      "\u001b[1m46/46\u001b[0m \u001b[32m━━━━━━━━━━━━━━━━━━━━\u001b[0m\u001b[37m\u001b[0m \u001b[1m6s\u001b[0m 127ms/step - loss: 2.2870e-04 - val_loss: 0.0027\n",
      "Epoch 5/100\n",
      "\u001b[1m46/46\u001b[0m \u001b[32m━━━━━━━━━━━━━━━━━━━━\u001b[0m\u001b[37m\u001b[0m \u001b[1m7s\u001b[0m 152ms/step - loss: 2.1096e-04 - val_loss: 0.0052\n",
      "Epoch 6/100\n",
      "\u001b[1m46/46\u001b[0m \u001b[32m━━━━━━━━━━━━━━━━━━━━\u001b[0m\u001b[37m\u001b[0m \u001b[1m8s\u001b[0m 179ms/step - loss: 1.8292e-04 - val_loss: 0.0024\n",
      "Epoch 7/100\n",
      "\u001b[1m46/46\u001b[0m \u001b[32m━━━━━━━━━━━━━━━━━━━━\u001b[0m\u001b[37m\u001b[0m \u001b[1m7s\u001b[0m 143ms/step - loss: 1.6327e-04 - val_loss: 0.0020\n",
      "Epoch 8/100\n",
      "\u001b[1m46/46\u001b[0m \u001b[32m━━━━━━━━━━━━━━━━━━━━\u001b[0m\u001b[37m\u001b[0m \u001b[1m9s\u001b[0m 197ms/step - loss: 1.5617e-04 - val_loss: 0.0026\n",
      "Epoch 9/100\n",
      "\u001b[1m46/46\u001b[0m \u001b[32m━━━━━━━━━━━━━━━━━━━━\u001b[0m\u001b[37m\u001b[0m \u001b[1m8s\u001b[0m 169ms/step - loss: 1.5533e-04 - val_loss: 0.0024\n",
      "Epoch 10/100\n",
      "\u001b[1m46/46\u001b[0m \u001b[32m━━━━━━━━━━━━━━━━━━━━\u001b[0m\u001b[37m\u001b[0m \u001b[1m9s\u001b[0m 189ms/step - loss: 1.3519e-04 - val_loss: 0.0019\n",
      "Epoch 11/100\n",
      "\u001b[1m46/46\u001b[0m \u001b[32m━━━━━━━━━━━━━━━━━━━━\u001b[0m\u001b[37m\u001b[0m \u001b[1m8s\u001b[0m 164ms/step - loss: 1.4576e-04 - val_loss: 0.0019\n",
      "Epoch 12/100\n",
      "\u001b[1m46/46\u001b[0m \u001b[32m━━━━━━━━━━━━━━━━━━━━\u001b[0m\u001b[37m\u001b[0m \u001b[1m7s\u001b[0m 156ms/step - loss: 1.3681e-04 - val_loss: 0.0017\n",
      "Epoch 13/100\n",
      "\u001b[1m46/46\u001b[0m \u001b[32m━━━━━━━━━━━━━━━━━━━━\u001b[0m\u001b[37m\u001b[0m \u001b[1m6s\u001b[0m 134ms/step - loss: 1.2309e-04 - val_loss: 0.0042\n",
      "Epoch 14/100\n",
      "\u001b[1m46/46\u001b[0m \u001b[32m━━━━━━━━━━━━━━━━━━━━\u001b[0m\u001b[37m\u001b[0m \u001b[1m6s\u001b[0m 131ms/step - loss: 1.4863e-04 - val_loss: 0.0019\n",
      "Epoch 15/100\n",
      "\u001b[1m46/46\u001b[0m \u001b[32m━━━━━━━━━━━━━━━━━━━━\u001b[0m\u001b[37m\u001b[0m \u001b[1m13s\u001b[0m 275ms/step - loss: 1.3379e-04 - val_loss: 0.0012\n",
      "Epoch 16/100\n",
      "\u001b[1m46/46\u001b[0m \u001b[32m━━━━━━━━━━━━━━━━━━━━\u001b[0m\u001b[37m\u001b[0m \u001b[1m22s\u001b[0m 308ms/step - loss: 1.2542e-04 - val_loss: 0.0012\n",
      "Epoch 17/100\n",
      "\u001b[1m46/46\u001b[0m \u001b[32m━━━━━━━━━━━━━━━━━━━━\u001b[0m\u001b[37m\u001b[0m \u001b[1m9s\u001b[0m 190ms/step - loss: 1.1854e-04 - val_loss: 0.0015\n",
      "Epoch 18/100\n",
      "\u001b[1m46/46\u001b[0m \u001b[32m━━━━━━━━━━━━━━━━━━━━\u001b[0m\u001b[37m\u001b[0m \u001b[1m10s\u001b[0m 214ms/step - loss: 1.1406e-04 - val_loss: 0.0018\n",
      "Epoch 19/100\n",
      "\u001b[1m46/46\u001b[0m \u001b[32m━━━━━━━━━━━━━━━━━━━━\u001b[0m\u001b[37m\u001b[0m \u001b[1m10s\u001b[0m 225ms/step - loss: 1.3187e-04 - val_loss: 0.0013\n",
      "Epoch 20/100\n",
      "\u001b[1m46/46\u001b[0m \u001b[32m━━━━━━━━━━━━━━━━━━━━\u001b[0m\u001b[37m\u001b[0m \u001b[1m8s\u001b[0m 164ms/step - loss: 1.2393e-04 - val_loss: 0.0012\n",
      "Epoch 21/100\n",
      "\u001b[1m46/46\u001b[0m \u001b[32m━━━━━━━━━━━━━━━━━━━━\u001b[0m\u001b[37m\u001b[0m \u001b[1m10s\u001b[0m 224ms/step - loss: 1.2160e-04 - val_loss: 0.0019\n",
      "Epoch 22/100\n",
      "\u001b[1m46/46\u001b[0m \u001b[32m━━━━━━━━━━━━━━━━━━━━\u001b[0m\u001b[37m\u001b[0m \u001b[1m10s\u001b[0m 217ms/step - loss: 1.1517e-04 - val_loss: 8.1318e-04\n",
      "Epoch 23/100\n",
      "\u001b[1m46/46\u001b[0m \u001b[32m━━━━━━━━━━━━━━━━━━━━\u001b[0m\u001b[37m\u001b[0m \u001b[1m9s\u001b[0m 192ms/step - loss: 1.1014e-04 - val_loss: 9.5225e-04\n",
      "Epoch 24/100\n",
      "\u001b[1m46/46\u001b[0m \u001b[32m━━━━━━━━━━━━━━━━━━━━\u001b[0m\u001b[37m\u001b[0m \u001b[1m10s\u001b[0m 225ms/step - loss: 1.0447e-04 - val_loss: 0.0014\n",
      "Epoch 25/100\n",
      "\u001b[1m46/46\u001b[0m \u001b[32m━━━━━━━━━━━━━━━━━━━━\u001b[0m\u001b[37m\u001b[0m \u001b[1m10s\u001b[0m 212ms/step - loss: 8.8341e-05 - val_loss: 0.0021\n",
      "Epoch 26/100\n",
      "\u001b[1m46/46\u001b[0m \u001b[32m━━━━━━━━━━━━━━━━━━━━\u001b[0m\u001b[37m\u001b[0m \u001b[1m9s\u001b[0m 194ms/step - loss: 1.0003e-04 - val_loss: 0.0015\n",
      "Epoch 27/100\n",
      "\u001b[1m46/46\u001b[0m \u001b[32m━━━━━━━━━━━━━━━━━━━━\u001b[0m\u001b[37m\u001b[0m \u001b[1m9s\u001b[0m 195ms/step - loss: 8.8652e-05 - val_loss: 9.3759e-04\n",
      "Epoch 28/100\n",
      "\u001b[1m46/46\u001b[0m \u001b[32m━━━━━━━━━━━━━━━━━━━━\u001b[0m\u001b[37m\u001b[0m \u001b[1m10s\u001b[0m 219ms/step - loss: 8.8718e-05 - val_loss: 8.5666e-04\n",
      "Epoch 29/100\n",
      "\u001b[1m46/46\u001b[0m \u001b[32m━━━━━━━━━━━━━━━━━━━━\u001b[0m\u001b[37m\u001b[0m \u001b[1m10s\u001b[0m 208ms/step - loss: 8.4794e-05 - val_loss: 0.0011\n",
      "Epoch 30/100\n",
      "\u001b[1m46/46\u001b[0m \u001b[32m━━━━━━━━━━━━━━━━━━━━\u001b[0m\u001b[37m\u001b[0m \u001b[1m8s\u001b[0m 175ms/step - loss: 8.4403e-05 - val_loss: 7.0217e-04\n",
      "Epoch 31/100\n",
      "\u001b[1m46/46\u001b[0m \u001b[32m━━━━━━━━━━━━━━━━━━━━\u001b[0m\u001b[37m\u001b[0m \u001b[1m11s\u001b[0m 238ms/step - loss: 8.2665e-05 - val_loss: 0.0021\n",
      "Epoch 32/100\n",
      "\u001b[1m46/46\u001b[0m \u001b[32m━━━━━━━━━━━━━━━━━━━━\u001b[0m\u001b[37m\u001b[0m \u001b[1m10s\u001b[0m 225ms/step - loss: 8.4280e-05 - val_loss: 5.8599e-04\n",
      "Epoch 33/100\n",
      "\u001b[1m46/46\u001b[0m \u001b[32m━━━━━━━━━━━━━━━━━━━━\u001b[0m\u001b[37m\u001b[0m \u001b[1m9s\u001b[0m 201ms/step - loss: 1.1887e-04 - val_loss: 0.0011\n",
      "Epoch 34/100\n",
      "\u001b[1m46/46\u001b[0m \u001b[32m━━━━━━━━━━━━━━━━━━━━\u001b[0m\u001b[37m\u001b[0m \u001b[1m9s\u001b[0m 184ms/step - loss: 7.7586e-05 - val_loss: 4.9596e-04\n",
      "Epoch 35/100\n",
      "\u001b[1m46/46\u001b[0m \u001b[32m━━━━━━━━━━━━━━━━━━━━\u001b[0m\u001b[37m\u001b[0m \u001b[1m8s\u001b[0m 162ms/step - loss: 9.5185e-05 - val_loss: 8.8706e-04\n",
      "Epoch 36/100\n",
      "\u001b[1m46/46\u001b[0m \u001b[32m━━━━━━━━━━━━━━━━━━━━\u001b[0m\u001b[37m\u001b[0m \u001b[1m9s\u001b[0m 192ms/step - loss: 7.3970e-05 - val_loss: 6.2508e-04\n",
      "Epoch 37/100\n",
      "\u001b[1m46/46\u001b[0m \u001b[32m━━━━━━━━━━━━━━━━━━━━\u001b[0m\u001b[37m\u001b[0m \u001b[1m8s\u001b[0m 172ms/step - loss: 7.7644e-05 - val_loss: 4.9607e-04\n",
      "Epoch 38/100\n",
      "\u001b[1m46/46\u001b[0m \u001b[32m━━━━━━━━━━━━━━━━━━━━\u001b[0m\u001b[37m\u001b[0m \u001b[1m8s\u001b[0m 177ms/step - loss: 7.5086e-05 - val_loss: 4.4765e-04\n",
      "Epoch 39/100\n",
      "\u001b[1m46/46\u001b[0m \u001b[32m━━━━━━━━━━━━━━━━━━━━\u001b[0m\u001b[37m\u001b[0m \u001b[1m9s\u001b[0m 187ms/step - loss: 7.0966e-05 - val_loss: 9.6504e-04\n",
      "Epoch 40/100\n",
      "\u001b[1m46/46\u001b[0m \u001b[32m━━━━━━━━━━━━━━━━━━━━\u001b[0m\u001b[37m\u001b[0m \u001b[1m9s\u001b[0m 187ms/step - loss: 7.1395e-05 - val_loss: 7.6423e-04\n",
      "Epoch 41/100\n",
      "\u001b[1m46/46\u001b[0m \u001b[32m━━━━━━━━━━━━━━━━━━━━\u001b[0m\u001b[37m\u001b[0m \u001b[1m8s\u001b[0m 175ms/step - loss: 8.3733e-05 - val_loss: 5.8950e-04\n",
      "Epoch 42/100\n",
      "\u001b[1m46/46\u001b[0m \u001b[32m━━━━━━━━━━━━━━━━━━━━\u001b[0m\u001b[37m\u001b[0m \u001b[1m8s\u001b[0m 171ms/step - loss: 6.6074e-05 - val_loss: 9.3524e-04\n",
      "Epoch 43/100\n",
      "\u001b[1m46/46\u001b[0m \u001b[32m━━━━━━━━━━━━━━━━━━━━\u001b[0m\u001b[37m\u001b[0m \u001b[1m8s\u001b[0m 179ms/step - loss: 7.1027e-05 - val_loss: 0.0011\n",
      "Epoch 44/100\n",
      "\u001b[1m46/46\u001b[0m \u001b[32m━━━━━━━━━━━━━━━━━━━━\u001b[0m\u001b[37m\u001b[0m \u001b[1m9s\u001b[0m 184ms/step - loss: 6.9764e-05 - val_loss: 8.5459e-04\n",
      "Epoch 45/100\n",
      "\u001b[1m46/46\u001b[0m \u001b[32m━━━━━━━━━━━━━━━━━━━━\u001b[0m\u001b[37m\u001b[0m \u001b[1m8s\u001b[0m 182ms/step - loss: 6.8489e-05 - val_loss: 3.6898e-04\n",
      "Epoch 46/100\n",
      "\u001b[1m46/46\u001b[0m \u001b[32m━━━━━━━━━━━━━━━━━━━━\u001b[0m\u001b[37m\u001b[0m \u001b[1m9s\u001b[0m 189ms/step - loss: 6.7981e-05 - val_loss: 7.6752e-04\n",
      "Epoch 47/100\n",
      "\u001b[1m46/46\u001b[0m \u001b[32m━━━━━━━━━━━━━━━━━━━━\u001b[0m\u001b[37m\u001b[0m \u001b[1m7s\u001b[0m 153ms/step - loss: 6.7070e-05 - val_loss: 9.7728e-04\n",
      "Epoch 48/100\n",
      "\u001b[1m46/46\u001b[0m \u001b[32m━━━━━━━━━━━━━━━━━━━━\u001b[0m\u001b[37m\u001b[0m \u001b[1m9s\u001b[0m 189ms/step - loss: 5.9815e-05 - val_loss: 8.9039e-04\n",
      "Epoch 49/100\n",
      "\u001b[1m46/46\u001b[0m \u001b[32m━━━━━━━━━━━━━━━━━━━━\u001b[0m\u001b[37m\u001b[0m \u001b[1m8s\u001b[0m 169ms/step - loss: 5.7442e-05 - val_loss: 8.7425e-04\n",
      "Epoch 50/100\n",
      "\u001b[1m46/46\u001b[0m \u001b[32m━━━━━━━━━━━━━━━━━━━━\u001b[0m\u001b[37m\u001b[0m \u001b[1m9s\u001b[0m 184ms/step - loss: 6.0829e-05 - val_loss: 4.5664e-04\n",
      "Epoch 51/100\n",
      "\u001b[1m46/46\u001b[0m \u001b[32m━━━━━━━━━━━━━━━━━━━━\u001b[0m\u001b[37m\u001b[0m \u001b[1m8s\u001b[0m 183ms/step - loss: 6.0297e-05 - val_loss: 8.3509e-04\n",
      "Epoch 52/100\n",
      "\u001b[1m46/46\u001b[0m \u001b[32m━━━━━━━━━━━━━━━━━━━━\u001b[0m\u001b[37m\u001b[0m \u001b[1m9s\u001b[0m 195ms/step - loss: 5.2706e-05 - val_loss: 8.9366e-04\n",
      "Epoch 53/100\n",
      "\u001b[1m46/46\u001b[0m \u001b[32m━━━━━━━━━━━━━━━━━━━━\u001b[0m\u001b[37m\u001b[0m \u001b[1m9s\u001b[0m 190ms/step - loss: 4.8411e-05 - val_loss: 4.4073e-04\n",
      "Epoch 54/100\n",
      "\u001b[1m46/46\u001b[0m \u001b[32m━━━━━━━━━━━━━━━━━━━━\u001b[0m\u001b[37m\u001b[0m \u001b[1m8s\u001b[0m 167ms/step - loss: 6.4965e-05 - val_loss: 0.0015\n",
      "Epoch 55/100\n",
      "\u001b[1m46/46\u001b[0m \u001b[32m━━━━━━━━━━━━━━━━━━━━\u001b[0m\u001b[37m\u001b[0m \u001b[1m9s\u001b[0m 187ms/step - loss: 5.3549e-05 - val_loss: 6.8076e-04\n",
      "Epoch 56/100\n",
      "\u001b[1m46/46\u001b[0m \u001b[32m━━━━━━━━━━━━━━━━━━━━\u001b[0m\u001b[37m\u001b[0m \u001b[1m7s\u001b[0m 161ms/step - loss: 4.7140e-05 - val_loss: 5.1311e-04\n",
      "Epoch 57/100\n",
      "\u001b[1m46/46\u001b[0m \u001b[32m━━━━━━━━━━━━━━━━━━━━\u001b[0m\u001b[37m\u001b[0m \u001b[1m9s\u001b[0m 189ms/step - loss: 4.8868e-05 - val_loss: 4.6451e-04\n",
      "Epoch 58/100\n",
      "\u001b[1m46/46\u001b[0m \u001b[32m━━━━━━━━━━━━━━━━━━━━\u001b[0m\u001b[37m\u001b[0m \u001b[1m8s\u001b[0m 183ms/step - loss: 4.2807e-05 - val_loss: 3.7269e-04\n",
      "Epoch 59/100\n",
      "\u001b[1m46/46\u001b[0m \u001b[32m━━━━━━━━━━━━━━━━━━━━\u001b[0m\u001b[37m\u001b[0m \u001b[1m9s\u001b[0m 204ms/step - loss: 4.4597e-05 - val_loss: 5.4904e-04\n",
      "Epoch 60/100\n",
      "\u001b[1m46/46\u001b[0m \u001b[32m━━━━━━━━━━━━━━━━━━━━\u001b[0m\u001b[37m\u001b[0m \u001b[1m10s\u001b[0m 212ms/step - loss: 4.3929e-05 - val_loss: 2.6882e-04\n",
      "Epoch 61/100\n",
      "\u001b[1m46/46\u001b[0m \u001b[32m━━━━━━━━━━━━━━━━━━━━\u001b[0m\u001b[37m\u001b[0m \u001b[1m9s\u001b[0m 198ms/step - loss: 4.2812e-05 - val_loss: 6.7236e-04\n",
      "Epoch 62/100\n",
      "\u001b[1m46/46\u001b[0m \u001b[32m━━━━━━━━━━━━━━━━━━━━\u001b[0m\u001b[37m\u001b[0m \u001b[1m8s\u001b[0m 174ms/step - loss: 3.7074e-05 - val_loss: 3.6523e-04\n",
      "Epoch 63/100\n",
      "\u001b[1m46/46\u001b[0m \u001b[32m━━━━━━━━━━━━━━━━━━━━\u001b[0m\u001b[37m\u001b[0m \u001b[1m8s\u001b[0m 180ms/step - loss: 4.3044e-05 - val_loss: 8.1677e-04\n",
      "Epoch 64/100\n",
      "\u001b[1m46/46\u001b[0m \u001b[32m━━━━━━━━━━━━━━━━━━━━\u001b[0m\u001b[37m\u001b[0m \u001b[1m9s\u001b[0m 201ms/step - loss: 4.5051e-05 - val_loss: 4.1719e-04\n"
     ]
    },
    {
     "name": "stdout",
     "output_type": "stream",
     "text": [
      "Epoch 65/100\n",
      "\u001b[1m46/46\u001b[0m \u001b[32m━━━━━━━━━━━━━━━━━━━━\u001b[0m\u001b[37m\u001b[0m \u001b[1m9s\u001b[0m 198ms/step - loss: 3.8021e-05 - val_loss: 3.5191e-04\n",
      "Epoch 66/100\n",
      "\u001b[1m46/46\u001b[0m \u001b[32m━━━━━━━━━━━━━━━━━━━━\u001b[0m\u001b[37m\u001b[0m \u001b[1m9s\u001b[0m 200ms/step - loss: 4.9667e-05 - val_loss: 2.9498e-04\n",
      "Epoch 67/100\n",
      "\u001b[1m46/46\u001b[0m \u001b[32m━━━━━━━━━━━━━━━━━━━━\u001b[0m\u001b[37m\u001b[0m \u001b[1m9s\u001b[0m 203ms/step - loss: 4.3179e-05 - val_loss: 6.8336e-04\n",
      "Epoch 68/100\n",
      "\u001b[1m46/46\u001b[0m \u001b[32m━━━━━━━━━━━━━━━━━━━━\u001b[0m\u001b[37m\u001b[0m \u001b[1m10s\u001b[0m 208ms/step - loss: 3.3709e-05 - val_loss: 6.6097e-04\n",
      "Epoch 69/100\n",
      "\u001b[1m46/46\u001b[0m \u001b[32m━━━━━━━━━━━━━━━━━━━━\u001b[0m\u001b[37m\u001b[0m \u001b[1m9s\u001b[0m 199ms/step - loss: 3.2425e-05 - val_loss: 2.7147e-04\n",
      "Epoch 70/100\n",
      "\u001b[1m46/46\u001b[0m \u001b[32m━━━━━━━━━━━━━━━━━━━━\u001b[0m\u001b[37m\u001b[0m \u001b[1m10s\u001b[0m 206ms/step - loss: 4.0878e-05 - val_loss: 3.9173e-04\n",
      "Epoch 71/100\n",
      "\u001b[1m46/46\u001b[0m \u001b[32m━━━━━━━━━━━━━━━━━━━━\u001b[0m\u001b[37m\u001b[0m \u001b[1m11s\u001b[0m 227ms/step - loss: 3.6274e-05 - val_loss: 3.4005e-04\n",
      "Epoch 72/100\n",
      "\u001b[1m46/46\u001b[0m \u001b[32m━━━━━━━━━━━━━━━━━━━━\u001b[0m\u001b[37m\u001b[0m \u001b[1m9s\u001b[0m 204ms/step - loss: 3.6116e-05 - val_loss: 6.3097e-04\n",
      "Epoch 73/100\n",
      "\u001b[1m46/46\u001b[0m \u001b[32m━━━━━━━━━━━━━━━━━━━━\u001b[0m\u001b[37m\u001b[0m \u001b[1m10s\u001b[0m 208ms/step - loss: 2.9912e-05 - val_loss: 3.2380e-04\n",
      "Epoch 74/100\n",
      "\u001b[1m46/46\u001b[0m \u001b[32m━━━━━━━━━━━━━━━━━━━━\u001b[0m\u001b[37m\u001b[0m \u001b[1m9s\u001b[0m 187ms/step - loss: 3.1900e-05 - val_loss: 4.7320e-04\n",
      "Epoch 75/100\n",
      "\u001b[1m46/46\u001b[0m \u001b[32m━━━━━━━━━━━━━━━━━━━━\u001b[0m\u001b[37m\u001b[0m \u001b[1m11s\u001b[0m 237ms/step - loss: 3.4990e-05 - val_loss: 3.8042e-04\n",
      "Epoch 76/100\n",
      "\u001b[1m46/46\u001b[0m \u001b[32m━━━━━━━━━━━━━━━━━━━━\u001b[0m\u001b[37m\u001b[0m \u001b[1m10s\u001b[0m 217ms/step - loss: 3.5914e-05 - val_loss: 8.5144e-04\n",
      "Epoch 77/100\n",
      "\u001b[1m46/46\u001b[0m \u001b[32m━━━━━━━━━━━━━━━━━━━━\u001b[0m\u001b[37m\u001b[0m \u001b[1m10s\u001b[0m 208ms/step - loss: 3.6788e-05 - val_loss: 3.9108e-04\n",
      "Epoch 78/100\n",
      "\u001b[1m46/46\u001b[0m \u001b[32m━━━━━━━━━━━━━━━━━━━━\u001b[0m\u001b[37m\u001b[0m \u001b[1m10s\u001b[0m 215ms/step - loss: 3.5290e-05 - val_loss: 0.0013\n",
      "Epoch 79/100\n",
      "\u001b[1m46/46\u001b[0m \u001b[32m━━━━━━━━━━━━━━━━━━━━\u001b[0m\u001b[37m\u001b[0m \u001b[1m9s\u001b[0m 195ms/step - loss: 4.9479e-05 - val_loss: 3.6168e-04\n",
      "Epoch 80/100\n",
      "\u001b[1m46/46\u001b[0m \u001b[32m━━━━━━━━━━━━━━━━━━━━\u001b[0m\u001b[37m\u001b[0m \u001b[1m8s\u001b[0m 166ms/step - loss: 3.0658e-05 - val_loss: 0.0011\n",
      "Epoch 81/100\n",
      "\u001b[1m46/46\u001b[0m \u001b[32m━━━━━━━━━━━━━━━━━━━━\u001b[0m\u001b[37m\u001b[0m \u001b[1m11s\u001b[0m 232ms/step - loss: 3.2447e-05 - val_loss: 6.5409e-04\n",
      "Epoch 82/100\n",
      "\u001b[1m46/46\u001b[0m \u001b[32m━━━━━━━━━━━━━━━━━━━━\u001b[0m\u001b[37m\u001b[0m \u001b[1m8s\u001b[0m 174ms/step - loss: 3.3854e-05 - val_loss: 3.3012e-04\n",
      "Epoch 83/100\n",
      "\u001b[1m46/46\u001b[0m \u001b[32m━━━━━━━━━━━━━━━━━━━━\u001b[0m\u001b[37m\u001b[0m \u001b[1m9s\u001b[0m 190ms/step - loss: 3.3684e-05 - val_loss: 6.5731e-04\n",
      "Epoch 84/100\n",
      "\u001b[1m46/46\u001b[0m \u001b[32m━━━━━━━━━━━━━━━━━━━━\u001b[0m\u001b[37m\u001b[0m \u001b[1m7s\u001b[0m 160ms/step - loss: 2.9345e-05 - val_loss: 4.8845e-04\n",
      "Epoch 85/100\n",
      "\u001b[1m46/46\u001b[0m \u001b[32m━━━━━━━━━━━━━━━━━━━━\u001b[0m\u001b[37m\u001b[0m \u001b[1m9s\u001b[0m 189ms/step - loss: 3.8137e-05 - val_loss: 4.2812e-04\n",
      "Epoch 86/100\n",
      "\u001b[1m46/46\u001b[0m \u001b[32m━━━━━━━━━━━━━━━━━━━━\u001b[0m\u001b[37m\u001b[0m \u001b[1m8s\u001b[0m 167ms/step - loss: 2.9128e-05 - val_loss: 8.7099e-04\n",
      "Epoch 87/100\n",
      "\u001b[1m46/46\u001b[0m \u001b[32m━━━━━━━━━━━━━━━━━━━━\u001b[0m\u001b[37m\u001b[0m \u001b[1m8s\u001b[0m 175ms/step - loss: 3.0162e-05 - val_loss: 5.6751e-04\n",
      "Epoch 88/100\n",
      "\u001b[1m46/46\u001b[0m \u001b[32m━━━━━━━━━━━━━━━━━━━━\u001b[0m\u001b[37m\u001b[0m \u001b[1m8s\u001b[0m 175ms/step - loss: 3.3521e-05 - val_loss: 9.2660e-04\n",
      "Epoch 89/100\n",
      "\u001b[1m46/46\u001b[0m \u001b[32m━━━━━━━━━━━━━━━━━━━━\u001b[0m\u001b[37m\u001b[0m \u001b[1m9s\u001b[0m 189ms/step - loss: 3.8763e-05 - val_loss: 4.3789e-04\n",
      "Epoch 90/100\n",
      "\u001b[1m46/46\u001b[0m \u001b[32m━━━━━━━━━━━━━━━━━━━━\u001b[0m\u001b[37m\u001b[0m \u001b[1m9s\u001b[0m 192ms/step - loss: 3.6868e-05 - val_loss: 7.3727e-04\n",
      "Epoch 91/100\n",
      "\u001b[1m46/46\u001b[0m \u001b[32m━━━━━━━━━━━━━━━━━━━━\u001b[0m\u001b[37m\u001b[0m \u001b[1m9s\u001b[0m 185ms/step - loss: 3.1370e-05 - val_loss: 8.7798e-04\n",
      "Epoch 92/100\n",
      "\u001b[1m46/46\u001b[0m \u001b[32m━━━━━━━━━━━━━━━━━━━━\u001b[0m\u001b[37m\u001b[0m \u001b[1m9s\u001b[0m 191ms/step - loss: 3.9405e-05 - val_loss: 5.6953e-04\n",
      "Epoch 93/100\n",
      "\u001b[1m46/46\u001b[0m \u001b[32m━━━━━━━━━━━━━━━━━━━━\u001b[0m\u001b[37m\u001b[0m \u001b[1m9s\u001b[0m 187ms/step - loss: 2.8701e-05 - val_loss: 4.9881e-04\n",
      "Epoch 94/100\n",
      "\u001b[1m46/46\u001b[0m \u001b[32m━━━━━━━━━━━━━━━━━━━━\u001b[0m\u001b[37m\u001b[0m \u001b[1m7s\u001b[0m 157ms/step - loss: 3.4950e-05 - val_loss: 0.0015\n",
      "Epoch 95/100\n",
      "\u001b[1m46/46\u001b[0m \u001b[32m━━━━━━━━━━━━━━━━━━━━\u001b[0m\u001b[37m\u001b[0m \u001b[1m9s\u001b[0m 191ms/step - loss: 5.1018e-05 - val_loss: 3.7250e-04\n",
      "Epoch 96/100\n",
      "\u001b[1m46/46\u001b[0m \u001b[32m━━━━━━━━━━━━━━━━━━━━\u001b[0m\u001b[37m\u001b[0m \u001b[1m8s\u001b[0m 162ms/step - loss: 4.4921e-05 - val_loss: 3.9215e-04\n",
      "Epoch 97/100\n",
      "\u001b[1m46/46\u001b[0m \u001b[32m━━━━━━━━━━━━━━━━━━━━\u001b[0m\u001b[37m\u001b[0m \u001b[1m8s\u001b[0m 173ms/step - loss: 3.0446e-05 - val_loss: 5.8081e-04\n",
      "Epoch 98/100\n",
      "\u001b[1m46/46\u001b[0m \u001b[32m━━━━━━━━━━━━━━━━━━━━\u001b[0m\u001b[37m\u001b[0m \u001b[1m7s\u001b[0m 160ms/step - loss: 3.3282e-05 - val_loss: 5.3924e-04\n",
      "Epoch 99/100\n",
      "\u001b[1m46/46\u001b[0m \u001b[32m━━━━━━━━━━━━━━━━━━━━\u001b[0m\u001b[37m\u001b[0m \u001b[1m9s\u001b[0m 204ms/step - loss: 2.9214e-05 - val_loss: 3.7012e-04\n",
      "Epoch 100/100\n",
      "\u001b[1m46/46\u001b[0m \u001b[32m━━━━━━━━━━━━━━━━━━━━\u001b[0m\u001b[37m\u001b[0m \u001b[1m9s\u001b[0m 184ms/step - loss: 3.1308e-05 - val_loss: 3.8960e-04\n"
     ]
    },
    {
     "data": {
      "text/plain": [
       "<keras.src.callbacks.history.History at 0x20d6f13c550>"
      ]
     },
     "execution_count": 32,
     "metadata": {},
     "output_type": "execute_result"
    }
   ],
   "source": [
    "model.fit(X_train,y_train,validation_data=(X_test,ytest),epochs=100,batch_size=64,verbose=1)"
   ]
  },
  {
   "cell_type": "code",
   "execution_count": 58,
   "id": "f1fd2919",
   "metadata": {},
   "outputs": [
    {
     "name": "stdout",
     "output_type": "stream",
     "text": [
      "Epoch 1/100\n",
      "\u001b[1m46/46\u001b[0m \u001b[32m━━━━━━━━━━━━━━━━━━━━\u001b[0m\u001b[37m\u001b[0m \u001b[1m4s\u001b[0m 94ms/step - loss: 3.3542e-05 - val_loss: 6.5569e-04\n",
      "Epoch 2/100\n",
      "\u001b[1m46/46\u001b[0m \u001b[32m━━━━━━━━━━━━━━━━━━━━\u001b[0m\u001b[37m\u001b[0m \u001b[1m4s\u001b[0m 91ms/step - loss: 3.3017e-05 - val_loss: 7.5259e-04\n",
      "Epoch 3/100\n",
      "\u001b[1m46/46\u001b[0m \u001b[32m━━━━━━━━━━━━━━━━━━━━\u001b[0m\u001b[37m\u001b[0m \u001b[1m4s\u001b[0m 92ms/step - loss: 3.0151e-05 - val_loss: 5.2209e-04\n",
      "Epoch 4/100\n",
      "\u001b[1m46/46\u001b[0m \u001b[32m━━━━━━━━━━━━━━━━━━━━\u001b[0m\u001b[37m\u001b[0m \u001b[1m5s\u001b[0m 97ms/step - loss: 2.8853e-05 - val_loss: 0.0013\n",
      "Epoch 5/100\n",
      "\u001b[1m46/46\u001b[0m \u001b[32m━━━━━━━━━━━━━━━━━━━━\u001b[0m\u001b[37m\u001b[0m \u001b[1m5s\u001b[0m 102ms/step - loss: 4.0505e-05 - val_loss: 5.3730e-04\n",
      "Epoch 6/100\n",
      "\u001b[1m46/46\u001b[0m \u001b[32m━━━━━━━━━━━━━━━━━━━━\u001b[0m\u001b[37m\u001b[0m \u001b[1m4s\u001b[0m 95ms/step - loss: 2.8118e-05 - val_loss: 5.4374e-04\n",
      "Epoch 7/100\n",
      "\u001b[1m46/46\u001b[0m \u001b[32m━━━━━━━━━━━━━━━━━━━━\u001b[0m\u001b[37m\u001b[0m \u001b[1m4s\u001b[0m 96ms/step - loss: 2.8459e-05 - val_loss: 4.6290e-04\n",
      "Epoch 8/100\n",
      "\u001b[1m46/46\u001b[0m \u001b[32m━━━━━━━━━━━━━━━━━━━━\u001b[0m\u001b[37m\u001b[0m \u001b[1m5s\u001b[0m 99ms/step - loss: 3.3380e-05 - val_loss: 8.2543e-04\n",
      "Epoch 9/100\n",
      "\u001b[1m46/46\u001b[0m \u001b[32m━━━━━━━━━━━━━━━━━━━━\u001b[0m\u001b[37m\u001b[0m \u001b[1m4s\u001b[0m 97ms/step - loss: 3.5694e-05 - val_loss: 7.3836e-04\n",
      "Epoch 10/100\n",
      "\u001b[1m46/46\u001b[0m \u001b[32m━━━━━━━━━━━━━━━━━━━━\u001b[0m\u001b[37m\u001b[0m \u001b[1m5s\u001b[0m 98ms/step - loss: 2.9780e-05 - val_loss: 5.9790e-04\n",
      "Epoch 11/100\n",
      "\u001b[1m46/46\u001b[0m \u001b[32m━━━━━━━━━━━━━━━━━━━━\u001b[0m\u001b[37m\u001b[0m \u001b[1m5s\u001b[0m 98ms/step - loss: 3.1341e-05 - val_loss: 9.4597e-04\n",
      "Epoch 12/100\n",
      "\u001b[1m46/46\u001b[0m \u001b[32m━━━━━━━━━━━━━━━━━━━━\u001b[0m\u001b[37m\u001b[0m \u001b[1m5s\u001b[0m 106ms/step - loss: 3.3357e-05 - val_loss: 5.0939e-04\n",
      "Epoch 13/100\n",
      "\u001b[1m46/46\u001b[0m \u001b[32m━━━━━━━━━━━━━━━━━━━━\u001b[0m\u001b[37m\u001b[0m \u001b[1m5s\u001b[0m 101ms/step - loss: 3.1081e-05 - val_loss: 6.3840e-04\n",
      "Epoch 14/100\n",
      "\u001b[1m46/46\u001b[0m \u001b[32m━━━━━━━━━━━━━━━━━━━━\u001b[0m\u001b[37m\u001b[0m \u001b[1m5s\u001b[0m 103ms/step - loss: 3.7790e-05 - val_loss: 7.5813e-04\n",
      "Epoch 15/100\n",
      "\u001b[1m46/46\u001b[0m \u001b[32m━━━━━━━━━━━━━━━━━━━━\u001b[0m\u001b[37m\u001b[0m \u001b[1m5s\u001b[0m 116ms/step - loss: 3.0415e-05 - val_loss: 8.2653e-04\n",
      "Epoch 16/100\n",
      "\u001b[1m46/46\u001b[0m \u001b[32m━━━━━━━━━━━━━━━━━━━━\u001b[0m\u001b[37m\u001b[0m \u001b[1m6s\u001b[0m 120ms/step - loss: 3.3305e-05 - val_loss: 5.7340e-04\n",
      "Epoch 17/100\n",
      "\u001b[1m46/46\u001b[0m \u001b[32m━━━━━━━━━━━━━━━━━━━━\u001b[0m\u001b[37m\u001b[0m \u001b[1m6s\u001b[0m 123ms/step - loss: 2.7815e-05 - val_loss: 4.1371e-04\n",
      "Epoch 18/100\n",
      "\u001b[1m46/46\u001b[0m \u001b[32m━━━━━━━━━━━━━━━━━━━━\u001b[0m\u001b[37m\u001b[0m \u001b[1m6s\u001b[0m 135ms/step - loss: 2.6763e-05 - val_loss: 8.9663e-04\n",
      "Epoch 19/100\n",
      "\u001b[1m46/46\u001b[0m \u001b[32m━━━━━━━━━━━━━━━━━━━━\u001b[0m\u001b[37m\u001b[0m \u001b[1m5s\u001b[0m 108ms/step - loss: 3.6470e-05 - val_loss: 5.8246e-04\n",
      "Epoch 20/100\n",
      "\u001b[1m46/46\u001b[0m \u001b[32m━━━━━━━━━━━━━━━━━━━━\u001b[0m\u001b[37m\u001b[0m \u001b[1m6s\u001b[0m 120ms/step - loss: 3.3092e-05 - val_loss: 4.7311e-04\n",
      "Epoch 21/100\n",
      "\u001b[1m46/46\u001b[0m \u001b[32m━━━━━━━━━━━━━━━━━━━━\u001b[0m\u001b[37m\u001b[0m \u001b[1m6s\u001b[0m 137ms/step - loss: 2.7413e-05 - val_loss: 3.2414e-04\n",
      "Epoch 22/100\n",
      "\u001b[1m46/46\u001b[0m \u001b[32m━━━━━━━━━━━━━━━━━━━━\u001b[0m\u001b[37m\u001b[0m \u001b[1m7s\u001b[0m 149ms/step - loss: 5.4371e-05 - val_loss: 8.8697e-04\n",
      "Epoch 23/100\n",
      "\u001b[1m46/46\u001b[0m \u001b[32m━━━━━━━━━━━━━━━━━━━━\u001b[0m\u001b[37m\u001b[0m \u001b[1m7s\u001b[0m 156ms/step - loss: 3.4073e-05 - val_loss: 6.5279e-04\n",
      "Epoch 24/100\n",
      "\u001b[1m46/46\u001b[0m \u001b[32m━━━━━━━━━━━━━━━━━━━━\u001b[0m\u001b[37m\u001b[0m \u001b[1m6s\u001b[0m 141ms/step - loss: 3.0849e-05 - val_loss: 5.1411e-04\n",
      "Epoch 25/100\n",
      "\u001b[1m46/46\u001b[0m \u001b[32m━━━━━━━━━━━━━━━━━━━━\u001b[0m\u001b[37m\u001b[0m \u001b[1m6s\u001b[0m 128ms/step - loss: 2.9215e-05 - val_loss: 4.1202e-04\n",
      "Epoch 26/100\n",
      "\u001b[1m46/46\u001b[0m \u001b[32m━━━━━━━━━━━━━━━━━━━━\u001b[0m\u001b[37m\u001b[0m \u001b[1m6s\u001b[0m 140ms/step - loss: 3.0804e-05 - val_loss: 4.7685e-04\n",
      "Epoch 27/100\n",
      "\u001b[1m46/46\u001b[0m \u001b[32m━━━━━━━━━━━━━━━━━━━━\u001b[0m\u001b[37m\u001b[0m \u001b[1m6s\u001b[0m 140ms/step - loss: 3.4311e-05 - val_loss: 3.7386e-04\n",
      "Epoch 28/100\n",
      "\u001b[1m46/46\u001b[0m \u001b[32m━━━━━━━━━━━━━━━━━━━━\u001b[0m\u001b[37m\u001b[0m \u001b[1m7s\u001b[0m 145ms/step - loss: 3.1656e-05 - val_loss: 7.4606e-04\n",
      "Epoch 29/100\n",
      "\u001b[1m46/46\u001b[0m \u001b[32m━━━━━━━━━━━━━━━━━━━━\u001b[0m\u001b[37m\u001b[0m \u001b[1m6s\u001b[0m 125ms/step - loss: 3.1277e-05 - val_loss: 5.1093e-04\n",
      "Epoch 30/100\n",
      "\u001b[1m46/46\u001b[0m \u001b[32m━━━━━━━━━━━━━━━━━━━━\u001b[0m\u001b[37m\u001b[0m \u001b[1m6s\u001b[0m 128ms/step - loss: 3.2573e-05 - val_loss: 8.7846e-04\n",
      "Epoch 31/100\n",
      "\u001b[1m46/46\u001b[0m \u001b[32m━━━━━━━━━━━━━━━━━━━━\u001b[0m\u001b[37m\u001b[0m \u001b[1m6s\u001b[0m 139ms/step - loss: 2.8542e-05 - val_loss: 0.0010\n",
      "Epoch 32/100\n",
      "\u001b[1m46/46\u001b[0m \u001b[32m━━━━━━━━━━━━━━━━━━━━\u001b[0m\u001b[37m\u001b[0m \u001b[1m6s\u001b[0m 133ms/step - loss: 2.9812e-05 - val_loss: 8.6594e-04\n",
      "Epoch 33/100\n",
      "\u001b[1m46/46\u001b[0m \u001b[32m━━━━━━━━━━━━━━━━━━━━\u001b[0m\u001b[37m\u001b[0m \u001b[1m6s\u001b[0m 140ms/step - loss: 3.0676e-05 - val_loss: 4.3947e-04\n",
      "Epoch 34/100\n",
      "\u001b[1m46/46\u001b[0m \u001b[32m━━━━━━━━━━━━━━━━━━━━\u001b[0m\u001b[37m\u001b[0m \u001b[1m6s\u001b[0m 126ms/step - loss: 3.3732e-05 - val_loss: 4.7197e-04\n",
      "Epoch 35/100\n",
      "\u001b[1m46/46\u001b[0m \u001b[32m━━━━━━━━━━━━━━━━━━━━\u001b[0m\u001b[37m\u001b[0m \u001b[1m6s\u001b[0m 129ms/step - loss: 2.7714e-05 - val_loss: 3.5541e-04\n",
      "Epoch 36/100\n",
      "\u001b[1m46/46\u001b[0m \u001b[32m━━━━━━━━━━━━━━━━━━━━\u001b[0m\u001b[37m\u001b[0m \u001b[1m7s\u001b[0m 146ms/step - loss: 3.5691e-05 - val_loss: 0.0012\n",
      "Epoch 37/100\n",
      "\u001b[1m46/46\u001b[0m \u001b[32m━━━━━━━━━━━━━━━━━━━━\u001b[0m\u001b[37m\u001b[0m \u001b[1m7s\u001b[0m 158ms/step - loss: 3.4321e-05 - val_loss: 4.6827e-04\n",
      "Epoch 38/100\n",
      "\u001b[1m46/46\u001b[0m \u001b[32m━━━━━━━━━━━━━━━━━━━━\u001b[0m\u001b[37m\u001b[0m \u001b[1m7s\u001b[0m 159ms/step - loss: 2.7777e-05 - val_loss: 9.0718e-04\n",
      "Epoch 39/100\n",
      "\u001b[1m46/46\u001b[0m \u001b[32m━━━━━━━━━━━━━━━━━━━━\u001b[0m\u001b[37m\u001b[0m \u001b[1m7s\u001b[0m 154ms/step - loss: 3.4715e-05 - val_loss: 4.0346e-04\n",
      "Epoch 40/100\n",
      "\u001b[1m46/46\u001b[0m \u001b[32m━━━━━━━━━━━━━━━━━━━━\u001b[0m\u001b[37m\u001b[0m \u001b[1m6s\u001b[0m 136ms/step - loss: 2.8671e-05 - val_loss: 4.6596e-04\n",
      "Epoch 41/100\n",
      "\u001b[1m46/46\u001b[0m \u001b[32m━━━━━━━━━━━━━━━━━━━━\u001b[0m\u001b[37m\u001b[0m \u001b[1m6s\u001b[0m 139ms/step - loss: 2.9815e-05 - val_loss: 0.0011\n",
      "Epoch 42/100\n",
      "\u001b[1m46/46\u001b[0m \u001b[32m━━━━━━━━━━━━━━━━━━━━\u001b[0m\u001b[37m\u001b[0m \u001b[1m6s\u001b[0m 136ms/step - loss: 3.2824e-05 - val_loss: 0.0016\n",
      "Epoch 43/100\n",
      "\u001b[1m46/46\u001b[0m \u001b[32m━━━━━━━━━━━━━━━━━━━━\u001b[0m\u001b[37m\u001b[0m \u001b[1m7s\u001b[0m 152ms/step - loss: 3.0505e-05 - val_loss: 7.5829e-04\n",
      "Epoch 44/100\n",
      "\u001b[1m46/46\u001b[0m \u001b[32m━━━━━━━━━━━━━━━━━━━━\u001b[0m\u001b[37m\u001b[0m \u001b[1m6s\u001b[0m 138ms/step - loss: 3.1337e-05 - val_loss: 5.7478e-04\n",
      "Epoch 45/100\n",
      "\u001b[1m46/46\u001b[0m \u001b[32m━━━━━━━━━━━━━━━━━━━━\u001b[0m\u001b[37m\u001b[0m \u001b[1m7s\u001b[0m 147ms/step - loss: 3.2394e-05 - val_loss: 3.8682e-04\n",
      "Epoch 46/100\n",
      "\u001b[1m46/46\u001b[0m \u001b[32m━━━━━━━━━━━━━━━━━━━━\u001b[0m\u001b[37m\u001b[0m \u001b[1m8s\u001b[0m 164ms/step - loss: 3.0021e-05 - val_loss: 5.0056e-04\n",
      "Epoch 47/100\n",
      "\u001b[1m46/46\u001b[0m \u001b[32m━━━━━━━━━━━━━━━━━━━━\u001b[0m\u001b[37m\u001b[0m \u001b[1m7s\u001b[0m 147ms/step - loss: 3.4246e-05 - val_loss: 5.1706e-04\n",
      "Epoch 48/100\n",
      "\u001b[1m46/46\u001b[0m \u001b[32m━━━━━━━━━━━━━━━━━━━━\u001b[0m\u001b[37m\u001b[0m \u001b[1m7s\u001b[0m 156ms/step - loss: 3.0575e-05 - val_loss: 5.2884e-04\n",
      "Epoch 49/100\n",
      "\u001b[1m46/46\u001b[0m \u001b[32m━━━━━━━━━━━━━━━━━━━━\u001b[0m\u001b[37m\u001b[0m \u001b[1m7s\u001b[0m 141ms/step - loss: 2.8141e-05 - val_loss: 5.9845e-04\n",
      "Epoch 50/100\n",
      "\u001b[1m46/46\u001b[0m \u001b[32m━━━━━━━━━━━━━━━━━━━━\u001b[0m\u001b[37m\u001b[0m \u001b[1m7s\u001b[0m 157ms/step - loss: 2.8859e-05 - val_loss: 9.2383e-04\n",
      "Epoch 51/100\n",
      "\u001b[1m46/46\u001b[0m \u001b[32m━━━━━━━━━━━━━━━━━━━━\u001b[0m\u001b[37m\u001b[0m \u001b[1m7s\u001b[0m 148ms/step - loss: 3.2995e-05 - val_loss: 7.5919e-04\n",
      "Epoch 52/100\n",
      "\u001b[1m46/46\u001b[0m \u001b[32m━━━━━━━━━━━━━━━━━━━━\u001b[0m\u001b[37m\u001b[0m \u001b[1m9s\u001b[0m 188ms/step - loss: 2.7522e-05 - val_loss: 4.2963e-04\n",
      "Epoch 53/100\n",
      "\u001b[1m46/46\u001b[0m \u001b[32m━━━━━━━━━━━━━━━━━━━━\u001b[0m\u001b[37m\u001b[0m \u001b[1m9s\u001b[0m 188ms/step - loss: 2.9965e-05 - val_loss: 3.3314e-04\n",
      "Epoch 54/100\n",
      "\u001b[1m46/46\u001b[0m \u001b[32m━━━━━━━━━━━━━━━━━━━━\u001b[0m\u001b[37m\u001b[0m \u001b[1m9s\u001b[0m 193ms/step - loss: 4.2263e-05 - val_loss: 5.6359e-04\n",
      "Epoch 55/100\n",
      "\u001b[1m46/46\u001b[0m \u001b[32m━━━━━━━━━━━━━━━━━━━━\u001b[0m\u001b[37m\u001b[0m \u001b[1m9s\u001b[0m 187ms/step - loss: 3.3053e-05 - val_loss: 4.0603e-04\n",
      "Epoch 56/100\n",
      "\u001b[1m46/46\u001b[0m \u001b[32m━━━━━━━━━━━━━━━━━━━━\u001b[0m\u001b[37m\u001b[0m \u001b[1m10s\u001b[0m 226ms/step - loss: 2.9622e-05 - val_loss: 4.2571e-04\n",
      "Epoch 57/100\n",
      "\u001b[1m46/46\u001b[0m \u001b[32m━━━━━━━━━━━━━━━━━━━━\u001b[0m\u001b[37m\u001b[0m \u001b[1m8s\u001b[0m 171ms/step - loss: 3.2306e-05 - val_loss: 3.5442e-04\n",
      "Epoch 58/100\n",
      "\u001b[1m46/46\u001b[0m \u001b[32m━━━━━━━━━━━━━━━━━━━━\u001b[0m\u001b[37m\u001b[0m \u001b[1m8s\u001b[0m 177ms/step - loss: 2.8674e-05 - val_loss: 0.0015\n",
      "Epoch 59/100\n",
      "\u001b[1m46/46\u001b[0m \u001b[32m━━━━━━━━━━━━━━━━━━━━\u001b[0m\u001b[37m\u001b[0m \u001b[1m8s\u001b[0m 181ms/step - loss: 3.7342e-05 - val_loss: 5.4369e-04\n",
      "Epoch 60/100\n",
      "\u001b[1m46/46\u001b[0m \u001b[32m━━━━━━━━━━━━━━━━━━━━\u001b[0m\u001b[37m\u001b[0m \u001b[1m8s\u001b[0m 171ms/step - loss: 2.8347e-05 - val_loss: 5.9844e-04\n",
      "Epoch 61/100\n",
      "\u001b[1m46/46\u001b[0m \u001b[32m━━━━━━━━━━━━━━━━━━━━\u001b[0m\u001b[37m\u001b[0m \u001b[1m8s\u001b[0m 182ms/step - loss: 2.6599e-05 - val_loss: 6.2961e-04\n",
      "Epoch 62/100\n",
      "\u001b[1m46/46\u001b[0m \u001b[32m━━━━━━━━━━━━━━━━━━━━\u001b[0m\u001b[37m\u001b[0m \u001b[1m9s\u001b[0m 192ms/step - loss: 3.0113e-05 - val_loss: 6.9546e-04\n",
      "Epoch 63/100\n",
      "\u001b[1m46/46\u001b[0m \u001b[32m━━━━━━━━━━━━━━━━━━━━\u001b[0m\u001b[37m\u001b[0m \u001b[1m8s\u001b[0m 175ms/step - loss: 3.2273e-05 - val_loss: 7.8989e-04\n",
      "Epoch 64/100\n"
     ]
    },
    {
     "name": "stdout",
     "output_type": "stream",
     "text": [
      "\u001b[1m46/46\u001b[0m \u001b[32m━━━━━━━━━━━━━━━━━━━━\u001b[0m\u001b[37m\u001b[0m \u001b[1m8s\u001b[0m 162ms/step - loss: 3.1272e-05 - val_loss: 0.0011\n",
      "Epoch 65/100\n",
      "\u001b[1m46/46\u001b[0m \u001b[32m━━━━━━━━━━━━━━━━━━━━\u001b[0m\u001b[37m\u001b[0m \u001b[1m8s\u001b[0m 171ms/step - loss: 3.3580e-05 - val_loss: 6.3235e-04\n",
      "Epoch 66/100\n",
      "\u001b[1m46/46\u001b[0m \u001b[32m━━━━━━━━━━━━━━━━━━━━\u001b[0m\u001b[37m\u001b[0m \u001b[1m8s\u001b[0m 175ms/step - loss: 2.8406e-05 - val_loss: 7.1578e-04\n",
      "Epoch 67/100\n",
      "\u001b[1m46/46\u001b[0m \u001b[32m━━━━━━━━━━━━━━━━━━━━\u001b[0m\u001b[37m\u001b[0m \u001b[1m8s\u001b[0m 177ms/step - loss: 3.1734e-05 - val_loss: 3.9623e-04\n",
      "Epoch 68/100\n",
      "\u001b[1m46/46\u001b[0m \u001b[32m━━━━━━━━━━━━━━━━━━━━\u001b[0m\u001b[37m\u001b[0m \u001b[1m8s\u001b[0m 182ms/step - loss: 2.9332e-05 - val_loss: 5.7756e-04\n",
      "Epoch 69/100\n",
      "\u001b[1m46/46\u001b[0m \u001b[32m━━━━━━━━━━━━━━━━━━━━\u001b[0m\u001b[37m\u001b[0m \u001b[1m8s\u001b[0m 175ms/step - loss: 3.5714e-05 - val_loss: 7.8388e-04\n",
      "Epoch 70/100\n",
      "\u001b[1m46/46\u001b[0m \u001b[32m━━━━━━━━━━━━━━━━━━━━\u001b[0m\u001b[37m\u001b[0m \u001b[1m8s\u001b[0m 168ms/step - loss: 3.5051e-05 - val_loss: 0.0013\n",
      "Epoch 71/100\n",
      "\u001b[1m46/46\u001b[0m \u001b[32m━━━━━━━━━━━━━━━━━━━━\u001b[0m\u001b[37m\u001b[0m \u001b[1m8s\u001b[0m 178ms/step - loss: 3.7618e-05 - val_loss: 5.9582e-04\n",
      "Epoch 72/100\n",
      "\u001b[1m46/46\u001b[0m \u001b[32m━━━━━━━━━━━━━━━━━━━━\u001b[0m\u001b[37m\u001b[0m \u001b[1m8s\u001b[0m 168ms/step - loss: 2.7678e-05 - val_loss: 7.2766e-04\n",
      "Epoch 73/100\n",
      "\u001b[1m46/46\u001b[0m \u001b[32m━━━━━━━━━━━━━━━━━━━━\u001b[0m\u001b[37m\u001b[0m \u001b[1m8s\u001b[0m 171ms/step - loss: 2.7038e-05 - val_loss: 7.7122e-04\n",
      "Epoch 74/100\n",
      "\u001b[1m46/46\u001b[0m \u001b[32m━━━━━━━━━━━━━━━━━━━━\u001b[0m\u001b[37m\u001b[0m \u001b[1m7s\u001b[0m 160ms/step - loss: 3.6456e-05 - val_loss: 5.1669e-04\n",
      "Epoch 75/100\n",
      "\u001b[1m46/46\u001b[0m \u001b[32m━━━━━━━━━━━━━━━━━━━━\u001b[0m\u001b[37m\u001b[0m \u001b[1m9s\u001b[0m 194ms/step - loss: 2.8632e-05 - val_loss: 7.2301e-04\n",
      "Epoch 76/100\n",
      "\u001b[1m46/46\u001b[0m \u001b[32m━━━━━━━━━━━━━━━━━━━━\u001b[0m\u001b[37m\u001b[0m \u001b[1m8s\u001b[0m 181ms/step - loss: 2.9856e-05 - val_loss: 6.1789e-04\n",
      "Epoch 77/100\n",
      "\u001b[1m46/46\u001b[0m \u001b[32m━━━━━━━━━━━━━━━━━━━━\u001b[0m\u001b[37m\u001b[0m \u001b[1m8s\u001b[0m 172ms/step - loss: 2.7152e-05 - val_loss: 7.9073e-04\n",
      "Epoch 78/100\n",
      "\u001b[1m46/46\u001b[0m \u001b[32m━━━━━━━━━━━━━━━━━━━━\u001b[0m\u001b[37m\u001b[0m \u001b[1m7s\u001b[0m 158ms/step - loss: 2.7129e-05 - val_loss: 0.0014\n",
      "Epoch 79/100\n",
      "\u001b[1m46/46\u001b[0m \u001b[32m━━━━━━━━━━━━━━━━━━━━\u001b[0m\u001b[37m\u001b[0m \u001b[1m8s\u001b[0m 167ms/step - loss: 3.3082e-05 - val_loss: 9.5723e-04\n",
      "Epoch 80/100\n",
      "\u001b[1m46/46\u001b[0m \u001b[32m━━━━━━━━━━━━━━━━━━━━\u001b[0m\u001b[37m\u001b[0m \u001b[1m7s\u001b[0m 161ms/step - loss: 3.0513e-05 - val_loss: 0.0014\n",
      "Epoch 81/100\n",
      "\u001b[1m46/46\u001b[0m \u001b[32m━━━━━━━━━━━━━━━━━━━━\u001b[0m\u001b[37m\u001b[0m \u001b[1m8s\u001b[0m 174ms/step - loss: 3.0087e-05 - val_loss: 6.8861e-04\n",
      "Epoch 82/100\n",
      "\u001b[1m46/46\u001b[0m \u001b[32m━━━━━━━━━━━━━━━━━━━━\u001b[0m\u001b[37m\u001b[0m \u001b[1m7s\u001b[0m 161ms/step - loss: 3.2557e-05 - val_loss: 0.0013\n",
      "Epoch 83/100\n",
      "\u001b[1m46/46\u001b[0m \u001b[32m━━━━━━━━━━━━━━━━━━━━\u001b[0m\u001b[37m\u001b[0m \u001b[1m7s\u001b[0m 161ms/step - loss: 2.9989e-05 - val_loss: 7.2099e-04\n",
      "Epoch 84/100\n",
      "\u001b[1m46/46\u001b[0m \u001b[32m━━━━━━━━━━━━━━━━━━━━\u001b[0m\u001b[37m\u001b[0m \u001b[1m8s\u001b[0m 171ms/step - loss: 2.9881e-05 - val_loss: 8.7822e-04\n",
      "Epoch 85/100\n",
      "\u001b[1m46/46\u001b[0m \u001b[32m━━━━━━━━━━━━━━━━━━━━\u001b[0m\u001b[37m\u001b[0m \u001b[1m7s\u001b[0m 157ms/step - loss: 2.9539e-05 - val_loss: 6.5349e-04\n",
      "Epoch 86/100\n",
      "\u001b[1m46/46\u001b[0m \u001b[32m━━━━━━━━━━━━━━━━━━━━\u001b[0m\u001b[37m\u001b[0m \u001b[1m9s\u001b[0m 195ms/step - loss: 2.7937e-05 - val_loss: 8.5847e-04\n",
      "Epoch 87/100\n",
      "\u001b[1m46/46\u001b[0m \u001b[32m━━━━━━━━━━━━━━━━━━━━\u001b[0m\u001b[37m\u001b[0m \u001b[1m9s\u001b[0m 195ms/step - loss: 3.9865e-05 - val_loss: 9.0240e-04\n",
      "Epoch 88/100\n",
      "\u001b[1m46/46\u001b[0m \u001b[32m━━━━━━━━━━━━━━━━━━━━\u001b[0m\u001b[37m\u001b[0m \u001b[1m8s\u001b[0m 172ms/step - loss: 3.1724e-05 - val_loss: 5.0189e-04\n",
      "Epoch 89/100\n",
      "\u001b[1m46/46\u001b[0m \u001b[32m━━━━━━━━━━━━━━━━━━━━\u001b[0m\u001b[37m\u001b[0m \u001b[1m8s\u001b[0m 165ms/step - loss: 2.7452e-05 - val_loss: 5.7888e-04\n",
      "Epoch 90/100\n",
      "\u001b[1m46/46\u001b[0m \u001b[32m━━━━━━━━━━━━━━━━━━━━\u001b[0m\u001b[37m\u001b[0m \u001b[1m8s\u001b[0m 166ms/step - loss: 2.7953e-05 - val_loss: 5.1171e-04\n",
      "Epoch 91/100\n",
      "\u001b[1m46/46\u001b[0m \u001b[32m━━━━━━━━━━━━━━━━━━━━\u001b[0m\u001b[37m\u001b[0m \u001b[1m9s\u001b[0m 191ms/step - loss: 3.0084e-05 - val_loss: 4.5924e-04\n",
      "Epoch 92/100\n",
      "\u001b[1m46/46\u001b[0m \u001b[32m━━━━━━━━━━━━━━━━━━━━\u001b[0m\u001b[37m\u001b[0m \u001b[1m8s\u001b[0m 168ms/step - loss: 3.1410e-05 - val_loss: 6.6507e-04\n",
      "Epoch 93/100\n",
      "\u001b[1m46/46\u001b[0m \u001b[32m━━━━━━━━━━━━━━━━━━━━\u001b[0m\u001b[37m\u001b[0m \u001b[1m8s\u001b[0m 173ms/step - loss: 3.0716e-05 - val_loss: 8.4799e-04\n",
      "Epoch 94/100\n",
      "\u001b[1m46/46\u001b[0m \u001b[32m━━━━━━━━━━━━━━━━━━━━\u001b[0m\u001b[37m\u001b[0m \u001b[1m8s\u001b[0m 169ms/step - loss: 2.9978e-05 - val_loss: 3.5548e-04\n",
      "Epoch 95/100\n",
      "\u001b[1m46/46\u001b[0m \u001b[32m━━━━━━━━━━━━━━━━━━━━\u001b[0m\u001b[37m\u001b[0m \u001b[1m7s\u001b[0m 160ms/step - loss: 3.1680e-05 - val_loss: 9.5345e-04\n",
      "Epoch 96/100\n",
      "\u001b[1m46/46\u001b[0m \u001b[32m━━━━━━━━━━━━━━━━━━━━\u001b[0m\u001b[37m\u001b[0m \u001b[1m9s\u001b[0m 199ms/step - loss: 2.8772e-05 - val_loss: 9.1747e-04\n",
      "Epoch 97/100\n",
      "\u001b[1m46/46\u001b[0m \u001b[32m━━━━━━━━━━━━━━━━━━━━\u001b[0m\u001b[37m\u001b[0m \u001b[1m9s\u001b[0m 186ms/step - loss: 2.7659e-05 - val_loss: 8.1086e-04\n",
      "Epoch 98/100\n",
      "\u001b[1m46/46\u001b[0m \u001b[32m━━━━━━━━━━━━━━━━━━━━\u001b[0m\u001b[37m\u001b[0m \u001b[1m9s\u001b[0m 187ms/step - loss: 2.9094e-05 - val_loss: 4.8660e-04\n",
      "Epoch 99/100\n",
      "\u001b[1m46/46\u001b[0m \u001b[32m━━━━━━━━━━━━━━━━━━━━\u001b[0m\u001b[37m\u001b[0m \u001b[1m8s\u001b[0m 179ms/step - loss: 3.1886e-05 - val_loss: 6.7654e-04\n",
      "Epoch 100/100\n",
      "\u001b[1m46/46\u001b[0m \u001b[32m━━━━━━━━━━━━━━━━━━━━\u001b[0m\u001b[37m\u001b[0m \u001b[1m7s\u001b[0m 161ms/step - loss: 3.0484e-05 - val_loss: 7.7090e-04\n"
     ]
    },
    {
     "data": {
      "image/png": "[encoded data removed]",
      "text/plain": [
       "<Figure size 640x480 with 1 Axes>"
      ]
     },
     "metadata": {},
     "output_type": "display_data"
    }
   ],
   "source": [
    "history = model.fit(X_train, y_train, validation_data=(X_test, ytest), epochs=100, batch_size=64, verbose=1)\n",
    "\n",
    "plt.plot(history.history['loss'], label='Training Loss')\n",
    "plt.plot(history.history['val_loss'], label='Validation Loss')\n",
    "plt.title('Training and Validation Loss')\n",
    "plt.xlabel('Epoch')\n",
    "plt.ylabel('Loss')\n",
    "plt.legend()\n",
    "plt.show()"
   ]
  },
  {
   "cell_type": "code",
   "execution_count": 34,
   "id": "68388f59",
   "metadata": {},
   "outputs": [
    {
     "name": "stdout",
     "output_type": "stream",
     "text": [
      "\u001b[1m91/91\u001b[0m \u001b[32m━━━━━━━━━━━━━━━━━━━━\u001b[0m\u001b[37m\u001b[0m \u001b[1m4s\u001b[0m 37ms/step\n",
      "\u001b[1m48/48\u001b[0m \u001b[32m━━━━━━━━━━━━━━━━━━━━\u001b[0m\u001b[37m\u001b[0m \u001b[1m2s\u001b[0m 45ms/step\n"
     ]
    }
   ],
   "source": [
    "train_predict=model.predict(X_train)\n",
    "test_predict=model.predict(X_test)"
   ]
  },
  {
   "cell_type": "code",
   "execution_count": 35,
   "id": "56a1edc8",
   "metadata": {},
   "outputs": [],
   "source": [
    "train_predict=scaler.inverse_transform(train_predict)\n",
    "test_predict=scaler.inverse_transform(test_predict)"
   ]
  },
  {
   "cell_type": "code",
   "execution_count": 36,
   "id": "86c22367",
   "metadata": {},
   "outputs": [
    {
     "data": {
      "text/plain": [
       "119.18361935750798"
      ]
     },
     "execution_count": 36,
     "metadata": {},
     "output_type": "execute_result"
    }
   ],
   "source": [
    "import math\n",
    "from sklearn.metrics import mean_squared_error\n",
    "math.sqrt(mean_squared_error(y_train,train_predict))"
   ]
  },
  {
   "cell_type": "code",
   "execution_count": 37,
   "id": "f7fc80b3",
   "metadata": {},
   "outputs": [
    {
     "data": {
      "text/plain": [
       "400.6592555097295"
      ]
     },
     "execution_count": 37,
     "metadata": {},
     "output_type": "execute_result"
    }
   ],
   "source": [
    "math.sqrt(mean_squared_error(ytest,test_predict))"
   ]
  },
  {
   "cell_type": "code",
   "execution_count": 38,
   "id": "9ad483cc",
   "metadata": {},
   "outputs": [
    {
     "data": {
      "image/png": "[encoded data removed]",
      "text/plain": [
       "<Figure size 640x480 with 1 Axes>"
      ]
     },
     "metadata": {},
     "output_type": "display_data"
    }
   ],
   "source": [
    "look_back = 100\n",
    "\n",
    "trainPredictPlot = np.empty_like(df1)\n",
    "trainPredictPlot[:, :] = np.nan\n",
    "trainPredictPlot[look_back:len(train_predict)+look_back, :] = train_predict\n",
    "\n",
    "testPredictPlot = numpy.empty_like(df1)\n",
    "testPredictPlot[:, :] = numpy.nan\n",
    "testPredictPlot[len(train_predict)+(look_back*2)+1:len(df1)-1, :] = test_predict\n",
    "\n",
    "plt.plot(scaler.inverse_transform(df1)) \n",
    "plt.plot(trainPredictPlot)\n",
    "plt.plot(testPredictPlot)\n",
    "plt.show()"
   ]
  },
  {
   "cell_type": "code",
   "execution_count": 39,
   "id": "0f624f32",
   "metadata": {},
   "outputs": [
    {
     "data": {
      "text/plain": [
       "1619"
      ]
     },
     "execution_count": 39,
     "metadata": {},
     "output_type": "execute_result"
    }
   ],
   "source": [
    "len(test_data)"
   ]
  },
  {
   "cell_type": "code",
   "execution_count": 40,
   "id": "a83d0f26",
   "metadata": {},
   "outputs": [
    {
     "data": {
      "text/plain": [
       "(1, 100)"
      ]
     },
     "execution_count": 40,
     "metadata": {},
     "output_type": "execute_result"
    }
   ],
   "source": [
    "x_input=test_data[1519:].reshape(1,-1)\n",
    "x_input.shape"
   ]
  },
  {
   "cell_type": "code",
   "execution_count": 41,
   "id": "b173d429",
   "metadata": {},
   "outputs": [],
   "source": [
    "temp_input=list(x_input)\n",
    "temp_input=temp_input[0].tolist()"
   ]
  },
  {
   "cell_type": "code",
   "execution_count": 42,
   "id": "cc543376",
   "metadata": {},
   "outputs": [
    {
     "data": {
      "text/plain": [
       "[0.5870710617600671,\n",
       " 0.5915013843226569,\n",
       " 0.5892010196152556,\n",
       " 0.5587000333527544,\n",
       " 0.5540993550569405,\n",
       " 0.5512877697929008,\n",
       " 0.5503506087842134,\n",
       " 0.5533325497814773,\n",
       " 0.5500097950797878,\n",
       " 0.5457498793694109,\n",
       " 0.5407232095025593,\n",
       " 0.5435347436476103,\n",
       " 0.5548661092134152,\n",
       " 0.560829991207943,\n",
       " 0.5534177276480894,\n",
       " 0.5490726340711003,\n",
       " 0.5506061935030383,\n",
       " 0.5518841682161514,\n",
       " 0.546772269363699,\n",
       " 0.5634711696197697,\n",
       " 0.5492430409233131,\n",
       " 0.5444719046562978,\n",
       " 0.5322033780818054,\n",
       " 0.5091998332457699,\n",
       " 0.5094554179645948,\n",
       " 0.5173788509620982,\n",
       " 0.49982801868294074,\n",
       " 0.4850034915632336,\n",
       " 0.5051103243876058,\n",
       " 0.5080922653848696,\n",
       " 0.4726497360031405,\n",
       " 0.4820215505659697,\n",
       " 0.4856850678530961,\n",
       " 0.48287353370804514,\n",
       " 0.47307572757417815,\n",
       " 0.46217035357941094,\n",
       " 0.470179015562515,\n",
       " 0.46924180343483896,\n",
       " 0.46634509142317576,\n",
       " 0.48457749999219585,\n",
       " 0.5011911712626659,\n",
       " 0.5089442485269451,\n",
       " 0.5086034348225195,\n",
       " 0.50528068012083,\n",
       " 0.5063030701151182,\n",
       " 0.5020431544047412,\n",
       " 0.49701648453788966,\n",
       " 0.5069846464049808,\n",
       " 0.5005947728394153,\n",
       " 0.5015319849670915,\n",
       " 0.5039175275411049,\n",
       " 0.5056214938252556,\n",
       " 0.47392771071625356,\n",
       " 0.45254295429775676,\n",
       " 0.4426599191782892,\n",
       " 0.42953940946172137,\n",
       " 0.4396779781810253,\n",
       " 0.43524770673742413,\n",
       " 0.4399336140188388,\n",
       " 0.4358440540416861,\n",
       " 0.4264722394788568,\n",
       " 0.44231915659285215,\n",
       " 0.446834657022054,\n",
       " 0.4501574117237434,\n",
       " 0.43712202875479916,\n",
       " 0.43422531674313597,\n",
       " 0.42996540103275904,\n",
       " 0.41036978876502517,\n",
       " 0.4203380017511049,\n",
       " 0.40994379719398744,\n",
       " 0.41105136505488776,\n",
       " 0.4125849244868257,\n",
       " 0.42170115433083005,\n",
       " 0.42178633219744216,\n",
       " 0.4201675948988921,\n",
       " 0.4208491711887547,\n",
       " 0.43771842717804965,\n",
       " 0.4366108593171493,\n",
       " 0.43081738417483445,\n",
       " 0.4324361214733845,\n",
       " 0.42527949375134444,\n",
       " 0.42118998489318027,\n",
       " 0.4136925179072203,\n",
       " 0.40951780562294976,\n",
       " 0.41556686548408955,\n",
       " 0.4201675948988921,\n",
       " 0.4069618561967236,\n",
       " 0.40457628806321594,\n",
       " 0.40474669491542875,\n",
       " 0.4090066106258057,\n",
       " 0.4208491711887547,\n",
       " 0.44104118187973906,\n",
       " 0.4388259950389499,\n",
       " 0.41854880648135345,\n",
       " 0.41616326390734004,\n",
       " 0.42178633219744216,\n",
       " 0.42383111218601854,\n",
       " 0.4267278753166703,\n",
       " 0.4227235443251183,\n",
       " 0.4366108593171493]"
      ]
     },
     "execution_count": 42,
     "metadata": {},
     "output_type": "execute_result"
    }
   ],
   "source": [
    "temp_input"
   ]
  },
  {
   "cell_type": "code",
   "execution_count": 43,
   "id": "4c681925",
   "metadata": {},
   "outputs": [
    {
     "name": "stdout",
     "output_type": "stream",
     "text": [
      "[0.44355574]\n",
      "101\n",
      "1 day input [0.59150138 0.58920102 0.55870003 0.55409936 0.55128777 0.55035061\n",
      " 0.55333255 0.5500098  0.54574988 0.54072321 0.54353474 0.55486611\n",
      " 0.56082999 0.55341773 0.54907263 0.55060619 0.55188417 0.54677227\n",
      " 0.56347117 0.54924304 0.5444719  0.53220338 0.50919983 0.50945542\n",
      " 0.51737885 0.49982802 0.48500349 0.50511032 0.50809227 0.47264974\n",
      " 0.48202155 0.48568507 0.48287353 0.47307573 0.46217035 0.47017902\n",
      " 0.4692418  0.46634509 0.4845775  0.50119117 0.50894425 0.50860343\n",
      " 0.50528068 0.50630307 0.50204315 0.49701648 0.50698465 0.50059477\n",
      " 0.50153198 0.50391753 0.50562149 0.47392771 0.45254295 0.44265992\n",
      " 0.42953941 0.43967798 0.43524771 0.43993361 0.43584405 0.42647224\n",
      " 0.44231916 0.44683466 0.45015741 0.43712203 0.43422532 0.4299654\n",
      " 0.41036979 0.420338   0.4099438  0.41105137 0.41258492 0.42170115\n",
      " 0.42178633 0.42016759 0.42084917 0.43771843 0.43661086 0.43081738\n",
      " 0.43243612 0.42527949 0.42118998 0.41369252 0.40951781 0.41556687\n",
      " 0.42016759 0.40696186 0.40457629 0.40474669 0.40900661 0.42084917\n",
      " 0.44104118 0.438826   0.41854881 0.41616326 0.42178633 0.42383111\n",
      " 0.42672788 0.42272354 0.43661086 0.44355574]\n",
      "1 day output [[0.4475094]]\n",
      "2 day input [0.58920102 0.55870003 0.55409936 0.55128777 0.55035061 0.55333255\n",
      " 0.5500098  0.54574988 0.54072321 0.54353474 0.55486611 0.56082999\n",
      " 0.55341773 0.54907263 0.55060619 0.55188417 0.54677227 0.56347117\n",
      " 0.54924304 0.5444719  0.53220338 0.50919983 0.50945542 0.51737885\n",
      " 0.49982802 0.48500349 0.50511032 0.50809227 0.47264974 0.48202155\n",
      " 0.48568507 0.48287353 0.47307573 0.46217035 0.47017902 0.4692418\n",
      " 0.46634509 0.4845775  0.50119117 0.50894425 0.50860343 0.50528068\n",
      " 0.50630307 0.50204315 0.49701648 0.50698465 0.50059477 0.50153198\n",
      " 0.50391753 0.50562149 0.47392771 0.45254295 0.44265992 0.42953941\n",
      " 0.43967798 0.43524771 0.43993361 0.43584405 0.42647224 0.44231916\n",
      " 0.44683466 0.45015741 0.43712203 0.43422532 0.4299654  0.41036979\n",
      " 0.420338   0.4099438  0.41105137 0.41258492 0.42170115 0.42178633\n",
      " 0.42016759 0.42084917 0.43771843 0.43661086 0.43081738 0.43243612\n",
      " 0.42527949 0.42118998 0.41369252 0.40951781 0.41556687 0.42016759\n",
      " 0.40696186 0.40457629 0.40474669 0.40900661 0.42084917 0.44104118\n",
      " 0.438826   0.41854881 0.41616326 0.42178633 0.42383111 0.42672788\n",
      " 0.42272354 0.43661086 0.44355574 0.44750941]\n",
      "2 day output [[0.4497973]]\n",
      "3 day input [0.55870003 0.55409936 0.55128777 0.55035061 0.55333255 0.5500098\n",
      " 0.54574988 0.54072321 0.54353474 0.55486611 0.56082999 0.55341773\n",
      " 0.54907263 0.55060619 0.55188417 0.54677227 0.56347117 0.54924304\n",
      " 0.5444719  0.53220338 0.50919983 0.50945542 0.51737885 0.49982802\n",
      " 0.48500349 0.50511032 0.50809227 0.47264974 0.48202155 0.48568507\n",
      " 0.48287353 0.47307573 0.46217035 0.47017902 0.4692418  0.46634509\n",
      " 0.4845775  0.50119117 0.50894425 0.50860343 0.50528068 0.50630307\n",
      " 0.50204315 0.49701648 0.50698465 0.50059477 0.50153198 0.50391753\n",
      " 0.50562149 0.47392771 0.45254295 0.44265992 0.42953941 0.43967798\n",
      " 0.43524771 0.43993361 0.43584405 0.42647224 0.44231916 0.44683466\n",
      " 0.45015741 0.43712203 0.43422532 0.4299654  0.41036979 0.420338\n",
      " 0.4099438  0.41105137 0.41258492 0.42170115 0.42178633 0.42016759\n",
      " 0.42084917 0.43771843 0.43661086 0.43081738 0.43243612 0.42527949\n",
      " 0.42118998 0.41369252 0.40951781 0.41556687 0.42016759 0.40696186\n",
      " 0.40457629 0.40474669 0.40900661 0.42084917 0.44104118 0.438826\n",
      " 0.41854881 0.41616326 0.42178633 0.42383111 0.42672788 0.42272354\n",
      " 0.43661086 0.44355574 0.44750941 0.4497973 ]\n",
      "3 day output [[0.45169258]]\n",
      "4 day input [0.55409936 0.55128777 0.55035061 0.55333255 0.5500098  0.54574988\n",
      " 0.54072321 0.54353474 0.55486611 0.56082999 0.55341773 0.54907263\n",
      " 0.55060619 0.55188417 0.54677227 0.56347117 0.54924304 0.5444719\n",
      " 0.53220338 0.50919983 0.50945542 0.51737885 0.49982802 0.48500349\n",
      " 0.50511032 0.50809227 0.47264974 0.48202155 0.48568507 0.48287353\n",
      " 0.47307573 0.46217035 0.47017902 0.4692418  0.46634509 0.4845775\n",
      " 0.50119117 0.50894425 0.50860343 0.50528068 0.50630307 0.50204315\n",
      " 0.49701648 0.50698465 0.50059477 0.50153198 0.50391753 0.50562149\n",
      " 0.47392771 0.45254295 0.44265992 0.42953941 0.43967798 0.43524771\n",
      " 0.43993361 0.43584405 0.42647224 0.44231916 0.44683466 0.45015741\n",
      " 0.43712203 0.43422532 0.4299654  0.41036979 0.420338   0.4099438\n",
      " 0.41105137 0.41258492 0.42170115 0.42178633 0.42016759 0.42084917\n",
      " 0.43771843 0.43661086 0.43081738 0.43243612 0.42527949 0.42118998\n",
      " 0.41369252 0.40951781 0.41556687 0.42016759 0.40696186 0.40457629\n",
      " 0.40474669 0.40900661 0.42084917 0.44104118 0.438826   0.41854881\n",
      " 0.41616326 0.42178633 0.42383111 0.42672788 0.42272354 0.43661086\n",
      " 0.44355574 0.44750941 0.4497973  0.45169258]\n",
      "4 day output [[0.45378742]]\n",
      "5 day input [0.55128777 0.55035061 0.55333255 0.5500098  0.54574988 0.54072321\n",
      " 0.54353474 0.55486611 0.56082999 0.55341773 0.54907263 0.55060619\n",
      " 0.55188417 0.54677227 0.56347117 0.54924304 0.5444719  0.53220338\n",
      " 0.50919983 0.50945542 0.51737885 0.49982802 0.48500349 0.50511032\n",
      " 0.50809227 0.47264974 0.48202155 0.48568507 0.48287353 0.47307573\n",
      " 0.46217035 0.47017902 0.4692418  0.46634509 0.4845775  0.50119117\n",
      " 0.50894425 0.50860343 0.50528068 0.50630307 0.50204315 0.49701648\n",
      " 0.50698465 0.50059477 0.50153198 0.50391753 0.50562149 0.47392771\n",
      " 0.45254295 0.44265992 0.42953941 0.43967798 0.43524771 0.43993361\n",
      " 0.43584405 0.42647224 0.44231916 0.44683466 0.45015741 0.43712203\n",
      " 0.43422532 0.4299654  0.41036979 0.420338   0.4099438  0.41105137\n",
      " 0.41258492 0.42170115 0.42178633 0.42016759 0.42084917 0.43771843\n",
      " 0.43661086 0.43081738 0.43243612 0.42527949 0.42118998 0.41369252\n",
      " 0.40951781 0.41556687 0.42016759 0.40696186 0.40457629 0.40474669\n",
      " 0.40900661 0.42084917 0.44104118 0.438826   0.41854881 0.41616326\n",
      " 0.42178633 0.42383111 0.42672788 0.42272354 0.43661086 0.44355574\n",
      " 0.44750941 0.4497973  0.45169258 0.45378742]\n",
      "5 day output [[0.45633414]]\n",
      "6 day input [0.55035061 0.55333255 0.5500098  0.54574988 0.54072321 0.54353474\n",
      " 0.55486611 0.56082999 0.55341773 0.54907263 0.55060619 0.55188417\n",
      " 0.54677227 0.56347117 0.54924304 0.5444719  0.53220338 0.50919983\n",
      " 0.50945542 0.51737885 0.49982802 0.48500349 0.50511032 0.50809227\n",
      " 0.47264974 0.48202155 0.48568507 0.48287353 0.47307573 0.46217035\n",
      " 0.47017902 0.4692418  0.46634509 0.4845775  0.50119117 0.50894425\n",
      " 0.50860343 0.50528068 0.50630307 0.50204315 0.49701648 0.50698465\n",
      " 0.50059477 0.50153198 0.50391753 0.50562149 0.47392771 0.45254295\n",
      " 0.44265992 0.42953941 0.43967798 0.43524771 0.43993361 0.43584405\n",
      " 0.42647224 0.44231916 0.44683466 0.45015741 0.43712203 0.43422532\n",
      " 0.4299654  0.41036979 0.420338   0.4099438  0.41105137 0.41258492\n",
      " 0.42170115 0.42178633 0.42016759 0.42084917 0.43771843 0.43661086\n",
      " 0.43081738 0.43243612 0.42527949 0.42118998 0.41369252 0.40951781\n",
      " 0.41556687 0.42016759 0.40696186 0.40457629 0.40474669 0.40900661\n",
      " 0.42084917 0.44104118 0.438826   0.41854881 0.41616326 0.42178633\n",
      " 0.42383111 0.42672788 0.42272354 0.43661086 0.44355574 0.44750941\n",
      " 0.4497973  0.45169258 0.45378742 0.45633414]\n",
      "6 day output [[0.4593064]]\n",
      "7 day input [0.55333255 0.5500098  0.54574988 0.54072321 0.54353474 0.55486611\n",
      " 0.56082999 0.55341773 0.54907263 0.55060619 0.55188417 0.54677227\n",
      " 0.56347117 0.54924304 0.5444719  0.53220338 0.50919983 0.50945542\n",
      " 0.51737885 0.49982802 0.48500349 0.50511032 0.50809227 0.47264974\n",
      " 0.48202155 0.48568507 0.48287353 0.47307573 0.46217035 0.47017902\n",
      " 0.4692418  0.46634509 0.4845775  0.50119117 0.50894425 0.50860343\n",
      " 0.50528068 0.50630307 0.50204315 0.49701648 0.50698465 0.50059477\n",
      " 0.50153198 0.50391753 0.50562149 0.47392771 0.45254295 0.44265992\n",
      " 0.42953941 0.43967798 0.43524771 0.43993361 0.43584405 0.42647224\n",
      " 0.44231916 0.44683466 0.45015741 0.43712203 0.43422532 0.4299654\n",
      " 0.41036979 0.420338   0.4099438  0.41105137 0.41258492 0.42170115\n",
      " 0.42178633 0.42016759 0.42084917 0.43771843 0.43661086 0.43081738\n",
      " 0.43243612 0.42527949 0.42118998 0.41369252 0.40951781 0.41556687\n",
      " 0.42016759 0.40696186 0.40457629 0.40474669 0.40900661 0.42084917\n",
      " 0.44104118 0.438826   0.41854881 0.41616326 0.42178633 0.42383111\n",
      " 0.42672788 0.42272354 0.43661086 0.44355574 0.44750941 0.4497973\n",
      " 0.45169258 0.45378742 0.45633414 0.45930639]\n",
      "7 day output [[0.46253157]]\n",
      "8 day input [0.5500098  0.54574988 0.54072321 0.54353474 0.55486611 0.56082999\n",
      " 0.55341773 0.54907263 0.55060619 0.55188417 0.54677227 0.56347117\n",
      " 0.54924304 0.5444719  0.53220338 0.50919983 0.50945542 0.51737885\n",
      " 0.49982802 0.48500349 0.50511032 0.50809227 0.47264974 0.48202155\n",
      " 0.48568507 0.48287353 0.47307573 0.46217035 0.47017902 0.4692418\n",
      " 0.46634509 0.4845775  0.50119117 0.50894425 0.50860343 0.50528068\n",
      " 0.50630307 0.50204315 0.49701648 0.50698465 0.50059477 0.50153198\n",
      " 0.50391753 0.50562149 0.47392771 0.45254295 0.44265992 0.42953941\n",
      " 0.43967798 0.43524771 0.43993361 0.43584405 0.42647224 0.44231916\n",
      " 0.44683466 0.45015741 0.43712203 0.43422532 0.4299654  0.41036979\n",
      " 0.420338   0.4099438  0.41105137 0.41258492 0.42170115 0.42178633\n",
      " 0.42016759 0.42084917 0.43771843 0.43661086 0.43081738 0.43243612\n",
      " 0.42527949 0.42118998 0.41369252 0.40951781 0.41556687 0.42016759\n",
      " 0.40696186 0.40457629 0.40474669 0.40900661 0.42084917 0.44104118\n",
      " 0.438826   0.41854881 0.41616326 0.42178633 0.42383111 0.42672788\n",
      " 0.42272354 0.43661086 0.44355574 0.44750941 0.4497973  0.45169258\n",
      " 0.45378742 0.45633414 0.45930639 0.46253157]\n"
     ]
    },
    {
     "name": "stdout",
     "output_type": "stream",
     "text": [
      "8 day output [[0.46581402]]\n",
      "9 day input [0.54574988 0.54072321 0.54353474 0.55486611 0.56082999 0.55341773\n",
      " 0.54907263 0.55060619 0.55188417 0.54677227 0.56347117 0.54924304\n",
      " 0.5444719  0.53220338 0.50919983 0.50945542 0.51737885 0.49982802\n",
      " 0.48500349 0.50511032 0.50809227 0.47264974 0.48202155 0.48568507\n",
      " 0.48287353 0.47307573 0.46217035 0.47017902 0.4692418  0.46634509\n",
      " 0.4845775  0.50119117 0.50894425 0.50860343 0.50528068 0.50630307\n",
      " 0.50204315 0.49701648 0.50698465 0.50059477 0.50153198 0.50391753\n",
      " 0.50562149 0.47392771 0.45254295 0.44265992 0.42953941 0.43967798\n",
      " 0.43524771 0.43993361 0.43584405 0.42647224 0.44231916 0.44683466\n",
      " 0.45015741 0.43712203 0.43422532 0.4299654  0.41036979 0.420338\n",
      " 0.4099438  0.41105137 0.41258492 0.42170115 0.42178633 0.42016759\n",
      " 0.42084917 0.43771843 0.43661086 0.43081738 0.43243612 0.42527949\n",
      " 0.42118998 0.41369252 0.40951781 0.41556687 0.42016759 0.40696186\n",
      " 0.40457629 0.40474669 0.40900661 0.42084917 0.44104118 0.438826\n",
      " 0.41854881 0.41616326 0.42178633 0.42383111 0.42672788 0.42272354\n",
      " 0.43661086 0.44355574 0.44750941 0.4497973  0.45169258 0.45378742\n",
      " 0.45633414 0.45930639 0.46253157 0.46581402]\n",
      "9 day output [[0.46900842]]\n",
      "10 day input [0.54072321 0.54353474 0.55486611 0.56082999 0.55341773 0.54907263\n",
      " 0.55060619 0.55188417 0.54677227 0.56347117 0.54924304 0.5444719\n",
      " 0.53220338 0.50919983 0.50945542 0.51737885 0.49982802 0.48500349\n",
      " 0.50511032 0.50809227 0.47264974 0.48202155 0.48568507 0.48287353\n",
      " 0.47307573 0.46217035 0.47017902 0.4692418  0.46634509 0.4845775\n",
      " 0.50119117 0.50894425 0.50860343 0.50528068 0.50630307 0.50204315\n",
      " 0.49701648 0.50698465 0.50059477 0.50153198 0.50391753 0.50562149\n",
      " 0.47392771 0.45254295 0.44265992 0.42953941 0.43967798 0.43524771\n",
      " 0.43993361 0.43584405 0.42647224 0.44231916 0.44683466 0.45015741\n",
      " 0.43712203 0.43422532 0.4299654  0.41036979 0.420338   0.4099438\n",
      " 0.41105137 0.41258492 0.42170115 0.42178633 0.42016759 0.42084917\n",
      " 0.43771843 0.43661086 0.43081738 0.43243612 0.42527949 0.42118998\n",
      " 0.41369252 0.40951781 0.41556687 0.42016759 0.40696186 0.40457629\n",
      " 0.40474669 0.40900661 0.42084917 0.44104118 0.438826   0.41854881\n",
      " 0.41616326 0.42178633 0.42383111 0.42672788 0.42272354 0.43661086\n",
      " 0.44355574 0.44750941 0.4497973  0.45169258 0.45378742 0.45633414\n",
      " 0.45930639 0.46253157 0.46581402 0.46900842]\n",
      "10 day output [[0.47204375]]\n",
      "11 day input [0.54353474 0.55486611 0.56082999 0.55341773 0.54907263 0.55060619\n",
      " 0.55188417 0.54677227 0.56347117 0.54924304 0.5444719  0.53220338\n",
      " 0.50919983 0.50945542 0.51737885 0.49982802 0.48500349 0.50511032\n",
      " 0.50809227 0.47264974 0.48202155 0.48568507 0.48287353 0.47307573\n",
      " 0.46217035 0.47017902 0.4692418  0.46634509 0.4845775  0.50119117\n",
      " 0.50894425 0.50860343 0.50528068 0.50630307 0.50204315 0.49701648\n",
      " 0.50698465 0.50059477 0.50153198 0.50391753 0.50562149 0.47392771\n",
      " 0.45254295 0.44265992 0.42953941 0.43967798 0.43524771 0.43993361\n",
      " 0.43584405 0.42647224 0.44231916 0.44683466 0.45015741 0.43712203\n",
      " 0.43422532 0.4299654  0.41036979 0.420338   0.4099438  0.41105137\n",
      " 0.41258492 0.42170115 0.42178633 0.42016759 0.42084917 0.43771843\n",
      " 0.43661086 0.43081738 0.43243612 0.42527949 0.42118998 0.41369252\n",
      " 0.40951781 0.41556687 0.42016759 0.40696186 0.40457629 0.40474669\n",
      " 0.40900661 0.42084917 0.44104118 0.438826   0.41854881 0.41616326\n",
      " 0.42178633 0.42383111 0.42672788 0.42272354 0.43661086 0.44355574\n",
      " 0.44750941 0.4497973  0.45169258 0.45378742 0.45633414 0.45930639\n",
      " 0.46253157 0.46581402 0.46900842 0.47204375]\n",
      "11 day output [[0.47491032]]\n",
      "12 day input [0.55486611 0.56082999 0.55341773 0.54907263 0.55060619 0.55188417\n",
      " 0.54677227 0.56347117 0.54924304 0.5444719  0.53220338 0.50919983\n",
      " 0.50945542 0.51737885 0.49982802 0.48500349 0.50511032 0.50809227\n",
      " 0.47264974 0.48202155 0.48568507 0.48287353 0.47307573 0.46217035\n",
      " 0.47017902 0.4692418  0.46634509 0.4845775  0.50119117 0.50894425\n",
      " 0.50860343 0.50528068 0.50630307 0.50204315 0.49701648 0.50698465\n",
      " 0.50059477 0.50153198 0.50391753 0.50562149 0.47392771 0.45254295\n",
      " 0.44265992 0.42953941 0.43967798 0.43524771 0.43993361 0.43584405\n",
      " 0.42647224 0.44231916 0.44683466 0.45015741 0.43712203 0.43422532\n",
      " 0.4299654  0.41036979 0.420338   0.4099438  0.41105137 0.41258492\n",
      " 0.42170115 0.42178633 0.42016759 0.42084917 0.43771843 0.43661086\n",
      " 0.43081738 0.43243612 0.42527949 0.42118998 0.41369252 0.40951781\n",
      " 0.41556687 0.42016759 0.40696186 0.40457629 0.40474669 0.40900661\n",
      " 0.42084917 0.44104118 0.438826   0.41854881 0.41616326 0.42178633\n",
      " 0.42383111 0.42672788 0.42272354 0.43661086 0.44355574 0.44750941\n",
      " 0.4497973  0.45169258 0.45378742 0.45633414 0.45930639 0.46253157\n",
      " 0.46581402 0.46900842 0.47204375 0.47491032]\n",
      "12 day output [[0.47763425]]\n",
      "13 day input [0.56082999 0.55341773 0.54907263 0.55060619 0.55188417 0.54677227\n",
      " 0.56347117 0.54924304 0.5444719  0.53220338 0.50919983 0.50945542\n",
      " 0.51737885 0.49982802 0.48500349 0.50511032 0.50809227 0.47264974\n",
      " 0.48202155 0.48568507 0.48287353 0.47307573 0.46217035 0.47017902\n",
      " 0.4692418  0.46634509 0.4845775  0.50119117 0.50894425 0.50860343\n",
      " 0.50528068 0.50630307 0.50204315 0.49701648 0.50698465 0.50059477\n",
      " 0.50153198 0.50391753 0.50562149 0.47392771 0.45254295 0.44265992\n",
      " 0.42953941 0.43967798 0.43524771 0.43993361 0.43584405 0.42647224\n",
      " 0.44231916 0.44683466 0.45015741 0.43712203 0.43422532 0.4299654\n",
      " 0.41036979 0.420338   0.4099438  0.41105137 0.41258492 0.42170115\n",
      " 0.42178633 0.42016759 0.42084917 0.43771843 0.43661086 0.43081738\n",
      " 0.43243612 0.42527949 0.42118998 0.41369252 0.40951781 0.41556687\n",
      " 0.42016759 0.40696186 0.40457629 0.40474669 0.40900661 0.42084917\n",
      " 0.44104118 0.438826   0.41854881 0.41616326 0.42178633 0.42383111\n",
      " 0.42672788 0.42272354 0.43661086 0.44355574 0.44750941 0.4497973\n",
      " 0.45169258 0.45378742 0.45633414 0.45930639 0.46253157 0.46581402\n",
      " 0.46900842 0.47204375 0.47491032 0.47763425]\n",
      "13 day output [[0.4802521]]\n",
      "14 day input [0.55341773 0.54907263 0.55060619 0.55188417 0.54677227 0.56347117\n",
      " 0.54924304 0.5444719  0.53220338 0.50919983 0.50945542 0.51737885\n",
      " 0.49982802 0.48500349 0.50511032 0.50809227 0.47264974 0.48202155\n",
      " 0.48568507 0.48287353 0.47307573 0.46217035 0.47017902 0.4692418\n",
      " 0.46634509 0.4845775  0.50119117 0.50894425 0.50860343 0.50528068\n",
      " 0.50630307 0.50204315 0.49701648 0.50698465 0.50059477 0.50153198\n",
      " 0.50391753 0.50562149 0.47392771 0.45254295 0.44265992 0.42953941\n",
      " 0.43967798 0.43524771 0.43993361 0.43584405 0.42647224 0.44231916\n",
      " 0.44683466 0.45015741 0.43712203 0.43422532 0.4299654  0.41036979\n",
      " 0.420338   0.4099438  0.41105137 0.41258492 0.42170115 0.42178633\n",
      " 0.42016759 0.42084917 0.43771843 0.43661086 0.43081738 0.43243612\n",
      " 0.42527949 0.42118998 0.41369252 0.40951781 0.41556687 0.42016759\n",
      " 0.40696186 0.40457629 0.40474669 0.40900661 0.42084917 0.44104118\n",
      " 0.438826   0.41854881 0.41616326 0.42178633 0.42383111 0.42672788\n",
      " 0.42272354 0.43661086 0.44355574 0.44750941 0.4497973  0.45169258\n",
      " 0.45378742 0.45633414 0.45930639 0.46253157 0.46581402 0.46900842\n",
      " 0.47204375 0.47491032 0.47763425 0.48025209]\n",
      "14 day output [[0.48279282]]\n",
      "15 day input [0.54907263 0.55060619 0.55188417 0.54677227 0.56347117 0.54924304\n",
      " 0.5444719  0.53220338 0.50919983 0.50945542 0.51737885 0.49982802\n",
      " 0.48500349 0.50511032 0.50809227 0.47264974 0.48202155 0.48568507\n",
      " 0.48287353 0.47307573 0.46217035 0.47017902 0.4692418  0.46634509\n",
      " 0.4845775  0.50119117 0.50894425 0.50860343 0.50528068 0.50630307\n",
      " 0.50204315 0.49701648 0.50698465 0.50059477 0.50153198 0.50391753\n",
      " 0.50562149 0.47392771 0.45254295 0.44265992 0.42953941 0.43967798\n",
      " 0.43524771 0.43993361 0.43584405 0.42647224 0.44231916 0.44683466\n",
      " 0.45015741 0.43712203 0.43422532 0.4299654  0.41036979 0.420338\n",
      " 0.4099438  0.41105137 0.41258492 0.42170115 0.42178633 0.42016759\n",
      " 0.42084917 0.43771843 0.43661086 0.43081738 0.43243612 0.42527949\n",
      " 0.42118998 0.41369252 0.40951781 0.41556687 0.42016759 0.40696186\n",
      " 0.40457629 0.40474669 0.40900661 0.42084917 0.44104118 0.438826\n",
      " 0.41854881 0.41616326 0.42178633 0.42383111 0.42672788 0.42272354\n",
      " 0.43661086 0.44355574 0.44750941 0.4497973  0.45169258 0.45378742\n",
      " 0.45633414 0.45930639 0.46253157 0.46581402 0.46900842 0.47204375\n",
      " 0.47491032 0.47763425 0.48025209 0.48279282]\n",
      "15 day output [[0.48527303]]\n",
      "16 day input [0.55060619 0.55188417 0.54677227 0.56347117 0.54924304 0.5444719\n",
      " 0.53220338 0.50919983 0.50945542 0.51737885 0.49982802 0.48500349\n",
      " 0.50511032 0.50809227 0.47264974 0.48202155 0.48568507 0.48287353\n",
      " 0.47307573 0.46217035 0.47017902 0.4692418  0.46634509 0.4845775\n",
      " 0.50119117 0.50894425 0.50860343 0.50528068 0.50630307 0.50204315\n",
      " 0.49701648 0.50698465 0.50059477 0.50153198 0.50391753 0.50562149\n",
      " 0.47392771 0.45254295 0.44265992 0.42953941 0.43967798 0.43524771\n",
      " 0.43993361 0.43584405 0.42647224 0.44231916 0.44683466 0.45015741\n",
      " 0.43712203 0.43422532 0.4299654  0.41036979 0.420338   0.4099438\n",
      " 0.41105137 0.41258492 0.42170115 0.42178633 0.42016759 0.42084917\n",
      " 0.43771843 0.43661086 0.43081738 0.43243612 0.42527949 0.42118998\n",
      " 0.41369252 0.40951781 0.41556687 0.42016759 0.40696186 0.40457629\n",
      " 0.40474669 0.40900661 0.42084917 0.44104118 0.438826   0.41854881\n",
      " 0.41616326 0.42178633 0.42383111 0.42672788 0.42272354 0.43661086\n",
      " 0.44355574 0.44750941 0.4497973  0.45169258 0.45378742 0.45633414\n",
      " 0.45930639 0.46253157 0.46581402 0.46900842 0.47204375 0.47491032\n",
      " 0.47763425 0.48025209 0.48279282 0.48527303]\n"
     ]
    },
    {
     "name": "stdout",
     "output_type": "stream",
     "text": [
      "16 day output [[0.48769677]]\n",
      "17 day input [0.55188417 0.54677227 0.56347117 0.54924304 0.5444719  0.53220338\n",
      " 0.50919983 0.50945542 0.51737885 0.49982802 0.48500349 0.50511032\n",
      " 0.50809227 0.47264974 0.48202155 0.48568507 0.48287353 0.47307573\n",
      " 0.46217035 0.47017902 0.4692418  0.46634509 0.4845775  0.50119117\n",
      " 0.50894425 0.50860343 0.50528068 0.50630307 0.50204315 0.49701648\n",
      " 0.50698465 0.50059477 0.50153198 0.50391753 0.50562149 0.47392771\n",
      " 0.45254295 0.44265992 0.42953941 0.43967798 0.43524771 0.43993361\n",
      " 0.43584405 0.42647224 0.44231916 0.44683466 0.45015741 0.43712203\n",
      " 0.43422532 0.4299654  0.41036979 0.420338   0.4099438  0.41105137\n",
      " 0.41258492 0.42170115 0.42178633 0.42016759 0.42084917 0.43771843\n",
      " 0.43661086 0.43081738 0.43243612 0.42527949 0.42118998 0.41369252\n",
      " 0.40951781 0.41556687 0.42016759 0.40696186 0.40457629 0.40474669\n",
      " 0.40900661 0.42084917 0.44104118 0.438826   0.41854881 0.41616326\n",
      " 0.42178633 0.42383111 0.42672788 0.42272354 0.43661086 0.44355574\n",
      " 0.44750941 0.4497973  0.45169258 0.45378742 0.45633414 0.45930639\n",
      " 0.46253157 0.46581402 0.46900842 0.47204375 0.47491032 0.47763425\n",
      " 0.48025209 0.48279282 0.48527303 0.48769677]\n",
      "17 day output [[0.4900609]]\n",
      "18 day input [0.54677227 0.56347117 0.54924304 0.5444719  0.53220338 0.50919983\n",
      " 0.50945542 0.51737885 0.49982802 0.48500349 0.50511032 0.50809227\n",
      " 0.47264974 0.48202155 0.48568507 0.48287353 0.47307573 0.46217035\n",
      " 0.47017902 0.4692418  0.46634509 0.4845775  0.50119117 0.50894425\n",
      " 0.50860343 0.50528068 0.50630307 0.50204315 0.49701648 0.50698465\n",
      " 0.50059477 0.50153198 0.50391753 0.50562149 0.47392771 0.45254295\n",
      " 0.44265992 0.42953941 0.43967798 0.43524771 0.43993361 0.43584405\n",
      " 0.42647224 0.44231916 0.44683466 0.45015741 0.43712203 0.43422532\n",
      " 0.4299654  0.41036979 0.420338   0.4099438  0.41105137 0.41258492\n",
      " 0.42170115 0.42178633 0.42016759 0.42084917 0.43771843 0.43661086\n",
      " 0.43081738 0.43243612 0.42527949 0.42118998 0.41369252 0.40951781\n",
      " 0.41556687 0.42016759 0.40696186 0.40457629 0.40474669 0.40900661\n",
      " 0.42084917 0.44104118 0.438826   0.41854881 0.41616326 0.42178633\n",
      " 0.42383111 0.42672788 0.42272354 0.43661086 0.44355574 0.44750941\n",
      " 0.4497973  0.45169258 0.45378742 0.45633414 0.45930639 0.46253157\n",
      " 0.46581402 0.46900842 0.47204375 0.47491032 0.47763425 0.48025209\n",
      " 0.48279282 0.48527303 0.48769677 0.4900609 ]\n",
      "18 day output [[0.49236003]]\n",
      "19 day input [0.56347117 0.54924304 0.5444719  0.53220338 0.50919983 0.50945542\n",
      " 0.51737885 0.49982802 0.48500349 0.50511032 0.50809227 0.47264974\n",
      " 0.48202155 0.48568507 0.48287353 0.47307573 0.46217035 0.47017902\n",
      " 0.4692418  0.46634509 0.4845775  0.50119117 0.50894425 0.50860343\n",
      " 0.50528068 0.50630307 0.50204315 0.49701648 0.50698465 0.50059477\n",
      " 0.50153198 0.50391753 0.50562149 0.47392771 0.45254295 0.44265992\n",
      " 0.42953941 0.43967798 0.43524771 0.43993361 0.43584405 0.42647224\n",
      " 0.44231916 0.44683466 0.45015741 0.43712203 0.43422532 0.4299654\n",
      " 0.41036979 0.420338   0.4099438  0.41105137 0.41258492 0.42170115\n",
      " 0.42178633 0.42016759 0.42084917 0.43771843 0.43661086 0.43081738\n",
      " 0.43243612 0.42527949 0.42118998 0.41369252 0.40951781 0.41556687\n",
      " 0.42016759 0.40696186 0.40457629 0.40474669 0.40900661 0.42084917\n",
      " 0.44104118 0.438826   0.41854881 0.41616326 0.42178633 0.42383111\n",
      " 0.42672788 0.42272354 0.43661086 0.44355574 0.44750941 0.4497973\n",
      " 0.45169258 0.45378742 0.45633414 0.45930639 0.46253157 0.46581402\n",
      " 0.46900842 0.47204375 0.47491032 0.47763425 0.48025209 0.48279282\n",
      " 0.48527303 0.48769677 0.4900609  0.49236003]\n",
      "19 day output [[0.49458966]]\n",
      "20 day input [0.54924304 0.5444719  0.53220338 0.50919983 0.50945542 0.51737885\n",
      " 0.49982802 0.48500349 0.50511032 0.50809227 0.47264974 0.48202155\n",
      " 0.48568507 0.48287353 0.47307573 0.46217035 0.47017902 0.4692418\n",
      " 0.46634509 0.4845775  0.50119117 0.50894425 0.50860343 0.50528068\n",
      " 0.50630307 0.50204315 0.49701648 0.50698465 0.50059477 0.50153198\n",
      " 0.50391753 0.50562149 0.47392771 0.45254295 0.44265992 0.42953941\n",
      " 0.43967798 0.43524771 0.43993361 0.43584405 0.42647224 0.44231916\n",
      " 0.44683466 0.45015741 0.43712203 0.43422532 0.4299654  0.41036979\n",
      " 0.420338   0.4099438  0.41105137 0.41258492 0.42170115 0.42178633\n",
      " 0.42016759 0.42084917 0.43771843 0.43661086 0.43081738 0.43243612\n",
      " 0.42527949 0.42118998 0.41369252 0.40951781 0.41556687 0.42016759\n",
      " 0.40696186 0.40457629 0.40474669 0.40900661 0.42084917 0.44104118\n",
      " 0.438826   0.41854881 0.41616326 0.42178633 0.42383111 0.42672788\n",
      " 0.42272354 0.43661086 0.44355574 0.44750941 0.4497973  0.45169258\n",
      " 0.45378742 0.45633414 0.45930639 0.46253157 0.46581402 0.46900842\n",
      " 0.47204375 0.47491032 0.47763425 0.48025209 0.48279282 0.48527303\n",
      " 0.48769677 0.4900609  0.49236003 0.49458966]\n",
      "20 day output [[0.496748]]\n",
      "21 day input [0.5444719  0.53220338 0.50919983 0.50945542 0.51737885 0.49982802\n",
      " 0.48500349 0.50511032 0.50809227 0.47264974 0.48202155 0.48568507\n",
      " 0.48287353 0.47307573 0.46217035 0.47017902 0.4692418  0.46634509\n",
      " 0.4845775  0.50119117 0.50894425 0.50860343 0.50528068 0.50630307\n",
      " 0.50204315 0.49701648 0.50698465 0.50059477 0.50153198 0.50391753\n",
      " 0.50562149 0.47392771 0.45254295 0.44265992 0.42953941 0.43967798\n",
      " 0.43524771 0.43993361 0.43584405 0.42647224 0.44231916 0.44683466\n",
      " 0.45015741 0.43712203 0.43422532 0.4299654  0.41036979 0.420338\n",
      " 0.4099438  0.41105137 0.41258492 0.42170115 0.42178633 0.42016759\n",
      " 0.42084917 0.43771843 0.43661086 0.43081738 0.43243612 0.42527949\n",
      " 0.42118998 0.41369252 0.40951781 0.41556687 0.42016759 0.40696186\n",
      " 0.40457629 0.40474669 0.40900661 0.42084917 0.44104118 0.438826\n",
      " 0.41854881 0.41616326 0.42178633 0.42383111 0.42672788 0.42272354\n",
      " 0.43661086 0.44355574 0.44750941 0.4497973  0.45169258 0.45378742\n",
      " 0.45633414 0.45930639 0.46253157 0.46581402 0.46900842 0.47204375\n",
      " 0.47491032 0.47763425 0.48025209 0.48279282 0.48527303 0.48769677\n",
      " 0.4900609  0.49236003 0.49458966 0.496748  ]\n",
      "21 day output [[0.49883556]]\n",
      "22 day input [0.53220338 0.50919983 0.50945542 0.51737885 0.49982802 0.48500349\n",
      " 0.50511032 0.50809227 0.47264974 0.48202155 0.48568507 0.48287353\n",
      " 0.47307573 0.46217035 0.47017902 0.4692418  0.46634509 0.4845775\n",
      " 0.50119117 0.50894425 0.50860343 0.50528068 0.50630307 0.50204315\n",
      " 0.49701648 0.50698465 0.50059477 0.50153198 0.50391753 0.50562149\n",
      " 0.47392771 0.45254295 0.44265992 0.42953941 0.43967798 0.43524771\n",
      " 0.43993361 0.43584405 0.42647224 0.44231916 0.44683466 0.45015741\n",
      " 0.43712203 0.43422532 0.4299654  0.41036979 0.420338   0.4099438\n",
      " 0.41105137 0.41258492 0.42170115 0.42178633 0.42016759 0.42084917\n",
      " 0.43771843 0.43661086 0.43081738 0.43243612 0.42527949 0.42118998\n",
      " 0.41369252 0.40951781 0.41556687 0.42016759 0.40696186 0.40457629\n",
      " 0.40474669 0.40900661 0.42084917 0.44104118 0.438826   0.41854881\n",
      " 0.41616326 0.42178633 0.42383111 0.42672788 0.42272354 0.43661086\n",
      " 0.44355574 0.44750941 0.4497973  0.45169258 0.45378742 0.45633414\n",
      " 0.45930639 0.46253157 0.46581402 0.46900842 0.47204375 0.47491032\n",
      " 0.47763425 0.48025209 0.48279282 0.48527303 0.48769677 0.4900609\n",
      " 0.49236003 0.49458966 0.496748   0.49883556]\n",
      "22 day output [[0.5008551]]\n",
      "23 day input [0.50919983 0.50945542 0.51737885 0.49982802 0.48500349 0.50511032\n",
      " 0.50809227 0.47264974 0.48202155 0.48568507 0.48287353 0.47307573\n",
      " 0.46217035 0.47017902 0.4692418  0.46634509 0.4845775  0.50119117\n",
      " 0.50894425 0.50860343 0.50528068 0.50630307 0.50204315 0.49701648\n",
      " 0.50698465 0.50059477 0.50153198 0.50391753 0.50562149 0.47392771\n",
      " 0.45254295 0.44265992 0.42953941 0.43967798 0.43524771 0.43993361\n",
      " 0.43584405 0.42647224 0.44231916 0.44683466 0.45015741 0.43712203\n",
      " 0.43422532 0.4299654  0.41036979 0.420338   0.4099438  0.41105137\n",
      " 0.41258492 0.42170115 0.42178633 0.42016759 0.42084917 0.43771843\n",
      " 0.43661086 0.43081738 0.43243612 0.42527949 0.42118998 0.41369252\n",
      " 0.40951781 0.41556687 0.42016759 0.40696186 0.40457629 0.40474669\n",
      " 0.40900661 0.42084917 0.44104118 0.438826   0.41854881 0.41616326\n",
      " 0.42178633 0.42383111 0.42672788 0.42272354 0.43661086 0.44355574\n",
      " 0.44750941 0.4497973  0.45169258 0.45378742 0.45633414 0.45930639\n",
      " 0.46253157 0.46581402 0.46900842 0.47204375 0.47491032 0.47763425\n",
      " 0.48025209 0.48279282 0.48527303 0.48769677 0.4900609  0.49236003\n",
      " 0.49458966 0.496748   0.49883556 0.50085509]\n",
      "23 day output [[0.50280946]]\n",
      "24 day input [0.50945542 0.51737885 0.49982802 0.48500349 0.50511032 0.50809227\n",
      " 0.47264974 0.48202155 0.48568507 0.48287353 0.47307573 0.46217035\n",
      " 0.47017902 0.4692418  0.46634509 0.4845775  0.50119117 0.50894425\n",
      " 0.50860343 0.50528068 0.50630307 0.50204315 0.49701648 0.50698465\n",
      " 0.50059477 0.50153198 0.50391753 0.50562149 0.47392771 0.45254295\n",
      " 0.44265992 0.42953941 0.43967798 0.43524771 0.43993361 0.43584405\n",
      " 0.42647224 0.44231916 0.44683466 0.45015741 0.43712203 0.43422532\n",
      " 0.4299654  0.41036979 0.420338   0.4099438  0.41105137 0.41258492\n",
      " 0.42170115 0.42178633 0.42016759 0.42084917 0.43771843 0.43661086\n",
      " 0.43081738 0.43243612 0.42527949 0.42118998 0.41369252 0.40951781\n",
      " 0.41556687 0.42016759 0.40696186 0.40457629 0.40474669 0.40900661\n",
      " 0.42084917 0.44104118 0.438826   0.41854881 0.41616326 0.42178633\n",
      " 0.42383111 0.42672788 0.42272354 0.43661086 0.44355574 0.44750941\n",
      " 0.4497973  0.45169258 0.45378742 0.45633414 0.45930639 0.46253157\n",
      " 0.46581402 0.46900842 0.47204375 0.47491032 0.47763425 0.48025209\n",
      " 0.48279282 0.48527303 0.48769677 0.4900609  0.49236003 0.49458966\n",
      " 0.496748   0.49883556 0.50085509 0.50280946]\n",
      "24 day output [[0.50470185]]\n",
      "25 day input [0.51737885 0.49982802 0.48500349 0.50511032 0.50809227 0.47264974\n",
      " 0.48202155 0.48568507 0.48287353 0.47307573 0.46217035 0.47017902\n",
      " 0.4692418  0.46634509 0.4845775  0.50119117 0.50894425 0.50860343\n",
      " 0.50528068 0.50630307 0.50204315 0.49701648 0.50698465 0.50059477\n",
      " 0.50153198 0.50391753 0.50562149 0.47392771 0.45254295 0.44265992\n",
      " 0.42953941 0.43967798 0.43524771 0.43993361 0.43584405 0.42647224\n",
      " 0.44231916 0.44683466 0.45015741 0.43712203 0.43422532 0.4299654\n",
      " 0.41036979 0.420338   0.4099438  0.41105137 0.41258492 0.42170115\n",
      " 0.42178633 0.42016759 0.42084917 0.43771843 0.43661086 0.43081738\n",
      " 0.43243612 0.42527949 0.42118998 0.41369252 0.40951781 0.41556687\n",
      " 0.42016759 0.40696186 0.40457629 0.40474669 0.40900661 0.42084917\n",
      " 0.44104118 0.438826   0.41854881 0.41616326 0.42178633 0.42383111\n",
      " 0.42672788 0.42272354 0.43661086 0.44355574 0.44750941 0.4497973\n",
      " 0.45169258 0.45378742 0.45633414 0.45930639 0.46253157 0.46581402\n",
      " 0.46900842 0.47204375 0.47491032 0.47763425 0.48025209 0.48279282\n",
      " 0.48527303 0.48769677 0.4900609  0.49236003 0.49458966 0.496748\n",
      " 0.49883556 0.50085509 0.50280946 0.50470185]\n"
     ]
    },
    {
     "name": "stdout",
     "output_type": "stream",
     "text": [
      "25 day output [[0.50653493]]\n",
      "26 day input [0.49982802 0.48500349 0.50511032 0.50809227 0.47264974 0.48202155\n",
      " 0.48568507 0.48287353 0.47307573 0.46217035 0.47017902 0.4692418\n",
      " 0.46634509 0.4845775  0.50119117 0.50894425 0.50860343 0.50528068\n",
      " 0.50630307 0.50204315 0.49701648 0.50698465 0.50059477 0.50153198\n",
      " 0.50391753 0.50562149 0.47392771 0.45254295 0.44265992 0.42953941\n",
      " 0.43967798 0.43524771 0.43993361 0.43584405 0.42647224 0.44231916\n",
      " 0.44683466 0.45015741 0.43712203 0.43422532 0.4299654  0.41036979\n",
      " 0.420338   0.4099438  0.41105137 0.41258492 0.42170115 0.42178633\n",
      " 0.42016759 0.42084917 0.43771843 0.43661086 0.43081738 0.43243612\n",
      " 0.42527949 0.42118998 0.41369252 0.40951781 0.41556687 0.42016759\n",
      " 0.40696186 0.40457629 0.40474669 0.40900661 0.42084917 0.44104118\n",
      " 0.438826   0.41854881 0.41616326 0.42178633 0.42383111 0.42672788\n",
      " 0.42272354 0.43661086 0.44355574 0.44750941 0.4497973  0.45169258\n",
      " 0.45378742 0.45633414 0.45930639 0.46253157 0.46581402 0.46900842\n",
      " 0.47204375 0.47491032 0.47763425 0.48025209 0.48279282 0.48527303\n",
      " 0.48769677 0.4900609  0.49236003 0.49458966 0.496748   0.49883556\n",
      " 0.50085509 0.50280946 0.50470185 0.50653493]\n",
      "26 day output [[0.5083107]]\n",
      "27 day input [0.48500349 0.50511032 0.50809227 0.47264974 0.48202155 0.48568507\n",
      " 0.48287353 0.47307573 0.46217035 0.47017902 0.4692418  0.46634509\n",
      " 0.4845775  0.50119117 0.50894425 0.50860343 0.50528068 0.50630307\n",
      " 0.50204315 0.49701648 0.50698465 0.50059477 0.50153198 0.50391753\n",
      " 0.50562149 0.47392771 0.45254295 0.44265992 0.42953941 0.43967798\n",
      " 0.43524771 0.43993361 0.43584405 0.42647224 0.44231916 0.44683466\n",
      " 0.45015741 0.43712203 0.43422532 0.4299654  0.41036979 0.420338\n",
      " 0.4099438  0.41105137 0.41258492 0.42170115 0.42178633 0.42016759\n",
      " 0.42084917 0.43771843 0.43661086 0.43081738 0.43243612 0.42527949\n",
      " 0.42118998 0.41369252 0.40951781 0.41556687 0.42016759 0.40696186\n",
      " 0.40457629 0.40474669 0.40900661 0.42084917 0.44104118 0.438826\n",
      " 0.41854881 0.41616326 0.42178633 0.42383111 0.42672788 0.42272354\n",
      " 0.43661086 0.44355574 0.44750941 0.4497973  0.45169258 0.45378742\n",
      " 0.45633414 0.45930639 0.46253157 0.46581402 0.46900842 0.47204375\n",
      " 0.47491032 0.47763425 0.48025209 0.48279282 0.48527303 0.48769677\n",
      " 0.4900609  0.49236003 0.49458966 0.496748   0.49883556 0.50085509\n",
      " 0.50280946 0.50470185 0.50653493 0.50831068]\n",
      "27 day output [[0.510031]]\n",
      "28 day input [0.50511032 0.50809227 0.47264974 0.48202155 0.48568507 0.48287353\n",
      " 0.47307573 0.46217035 0.47017902 0.4692418  0.46634509 0.4845775\n",
      " 0.50119117 0.50894425 0.50860343 0.50528068 0.50630307 0.50204315\n",
      " 0.49701648 0.50698465 0.50059477 0.50153198 0.50391753 0.50562149\n",
      " 0.47392771 0.45254295 0.44265992 0.42953941 0.43967798 0.43524771\n",
      " 0.43993361 0.43584405 0.42647224 0.44231916 0.44683466 0.45015741\n",
      " 0.43712203 0.43422532 0.4299654  0.41036979 0.420338   0.4099438\n",
      " 0.41105137 0.41258492 0.42170115 0.42178633 0.42016759 0.42084917\n",
      " 0.43771843 0.43661086 0.43081738 0.43243612 0.42527949 0.42118998\n",
      " 0.41369252 0.40951781 0.41556687 0.42016759 0.40696186 0.40457629\n",
      " 0.40474669 0.40900661 0.42084917 0.44104118 0.438826   0.41854881\n",
      " 0.41616326 0.42178633 0.42383111 0.42672788 0.42272354 0.43661086\n",
      " 0.44355574 0.44750941 0.4497973  0.45169258 0.45378742 0.45633414\n",
      " 0.45930639 0.46253157 0.46581402 0.46900842 0.47204375 0.47491032\n",
      " 0.47763425 0.48025209 0.48279282 0.48527303 0.48769677 0.4900609\n",
      " 0.49236003 0.49458966 0.496748   0.49883556 0.50085509 0.50280946\n",
      " 0.50470185 0.50653493 0.50831068 0.51003098]\n",
      "28 day output [[0.5116974]]\n",
      "29 day input [0.50809227 0.47264974 0.48202155 0.48568507 0.48287353 0.47307573\n",
      " 0.46217035 0.47017902 0.4692418  0.46634509 0.4845775  0.50119117\n",
      " 0.50894425 0.50860343 0.50528068 0.50630307 0.50204315 0.49701648\n",
      " 0.50698465 0.50059477 0.50153198 0.50391753 0.50562149 0.47392771\n",
      " 0.45254295 0.44265992 0.42953941 0.43967798 0.43524771 0.43993361\n",
      " 0.43584405 0.42647224 0.44231916 0.44683466 0.45015741 0.43712203\n",
      " 0.43422532 0.4299654  0.41036979 0.420338   0.4099438  0.41105137\n",
      " 0.41258492 0.42170115 0.42178633 0.42016759 0.42084917 0.43771843\n",
      " 0.43661086 0.43081738 0.43243612 0.42527949 0.42118998 0.41369252\n",
      " 0.40951781 0.41556687 0.42016759 0.40696186 0.40457629 0.40474669\n",
      " 0.40900661 0.42084917 0.44104118 0.438826   0.41854881 0.41616326\n",
      " 0.42178633 0.42383111 0.42672788 0.42272354 0.43661086 0.44355574\n",
      " 0.44750941 0.4497973  0.45169258 0.45378742 0.45633414 0.45930639\n",
      " 0.46253157 0.46581402 0.46900842 0.47204375 0.47491032 0.47763425\n",
      " 0.48025209 0.48279282 0.48527303 0.48769677 0.4900609  0.49236003\n",
      " 0.49458966 0.496748   0.49883556 0.50085509 0.50280946 0.50470185\n",
      " 0.50653493 0.50831068 0.51003098 0.51169741]\n",
      "29 day output [[0.5133111]]\n",
      "[[0.4435557425022125], [0.44750940799713135], [0.44979730248451233], [0.4516925811767578], [0.4537874162197113], [0.4563341438770294], [0.45930638909339905], [0.46253156661987305], [0.4658140242099762], [0.4690084159374237], [0.4720437526702881], [0.47491031885147095], [0.4776342511177063], [0.48025208711624146], [0.48279282450675964], [0.4852730333805084], [0.4876967668533325], [0.4900608956813812], [0.49236002564430237], [0.4945896565914154], [0.4967480003833771], [0.49883556365966797], [0.5008550882339478], [0.502809464931488], [0.5047018527984619], [0.5065349340438843], [0.5083106756210327], [0.51003098487854], [0.5116974115371704], [0.5133110880851746]]\n"
     ]
    }
   ],
   "source": [
    "from numpy import array\n",
    "\n",
    "lst_output=[]\n",
    "n_steps=100\n",
    "i=0\n",
    "while(i<30):\n",
    "    \n",
    "    if(len(temp_input)>100):\n",
    "        #print(temp_input)\n",
    "        x_input=np.array(temp_input[1:])\n",
    "        print(\"{} day input {}\".format(i,x_input))\n",
    "        x_input=x_input.reshape(1,-1)\n",
    "        x_input = x_input.reshape((1, n_steps, 1))\n",
    "        #print(x_input)\n",
    "        yhat = model.predict(x_input, verbose=0)\n",
    "        print(\"{} day output {}\".format(i,yhat))\n",
    "        temp_input.extend(yhat[0].tolist())\n",
    "        temp_input=temp_input[1:]\n",
    "        #print(temp_input)\n",
    "        lst_output.extend(yhat.tolist())\n",
    "        i=i+1\n",
    "    else:\n",
    "        x_input = x_input.reshape((1, n_steps,1))\n",
    "        yhat = model.predict(x_input, verbose=0)\n",
    "        print(yhat[0])\n",
    "        temp_input.extend(yhat[0].tolist())\n",
    "        print(len(temp_input))\n",
    "        lst_output.extend(yhat.tolist())\n",
    "        i=i+1\n",
    "    \n",
    "\n",
    "print(lst_output)"
   ]
  },
  {
   "cell_type": "code",
   "execution_count": 44,
   "id": "6a4b18de",
   "metadata": {},
   "outputs": [],
   "source": [
    "day_new=np.arange(1,101)\n",
    "day_pred=np.arange(101,131)"
   ]
  },
  {
   "cell_type": "code",
   "execution_count": 45,
   "id": "6bb1914f",
   "metadata": {},
   "outputs": [],
   "source": [
    "import matplotlib.pyplot as plt"
   ]
  },
  {
   "cell_type": "code",
   "execution_count": 46,
   "id": "c4a8a63a",
   "metadata": {},
   "outputs": [
    {
     "data": {
      "text/plain": [
       "4625"
      ]
     },
     "execution_count": 46,
     "metadata": {},
     "output_type": "execute_result"
    }
   ],
   "source": [
    "len(df1)"
   ]
  },
  {
   "cell_type": "code",
   "execution_count": 47,
   "id": "5cc1913d",
   "metadata": {},
   "outputs": [],
   "source": [
    "df3=df1.tolist()\n",
    "df3.extend(lst_output)"
   ]
  },
  {
   "cell_type": "code",
   "execution_count": 48,
   "id": "1c1fd720",
   "metadata": {},
   "outputs": [
    {
     "data": {
      "text/plain": [
       "[<matplotlib.lines.Line2D at 0x20d70f88c90>]"
      ]
     },
     "execution_count": 48,
     "metadata": {},
     "output_type": "execute_result"
    },
    {
     "data": {
      "image/png": "[encoded data removed]",
      "text/plain": [
       "<Figure size 640x480 with 1 Axes>"
      ]
     },
     "metadata": {},
     "output_type": "display_data"
    }
   ],
   "source": [
    "plt.plot(day_new,scaler.inverse_transform(df1[4525:]))\n",
    "plt.plot(day_pred,scaler.inverse_transform(lst_output))"
   ]
  },
  {
   "cell_type": "code",
   "execution_count": 49,
   "id": "dd61569d",
   "metadata": {},
   "outputs": [],
   "source": [
    "df3=scaler.inverse_transform(df3).tolist()"
   ]
  },
  {
   "cell_type": "code",
   "execution_count": 50,
   "id": "d49eeaca",
   "metadata": {},
   "outputs": [
    {
     "data": {
      "text/plain": [
       "[<matplotlib.lines.Line2D at 0x20d7277b510>]"
      ]
     },
     "execution_count": 50,
     "metadata": {},
     "output_type": "execute_result"
    },
    {
     "data": {
      "image/png": "[encoded data removed]",
      "text/plain": [
       "<Figure size 640x480 with 1 Axes>"
      ]
     },
     "metadata": {},
     "output_type": "display_data"
    }
   ],
   "source": [
    "df3=df1.tolist()\n",
    "df3.extend(lst_output)\n",
    "plt.plot(df3[1000:])"
   ]
  },
  {
   "cell_type": "code",
   "execution_count": 51,
   "id": "976d0730",
   "metadata": {},
   "outputs": [
    {
     "name": "stdout",
     "output_type": "stream",
     "text": [
      "Mean Absolute Error: 391.38107860757316\n"
     ]
    }
   ],
   "source": [
    "from sklearn.metrics import mean_absolute_error\n",
    "\n",
    "mae = mean_absolute_error(ytest,test_predict)\n",
    "print('Mean Absolute Error:', mae)\n"
   ]
  },
  {
   "cell_type": "code",
   "execution_count": 53,
   "id": "a3b9f284",
   "metadata": {},
   "outputs": [
    {
     "name": "stdout",
     "output_type": "stream",
     "text": [
      "Mean Absolute Error: 391.38107860757316\n",
      "Mean Squared Error: 160527.8390256107\n",
      "Root Mean Squared Error: 400.6592555097295\n",
      "R² Score: -6747036.164222639\n"
     ]
    }
   ],
   "source": [
    "from sklearn.metrics import mean_absolute_error, mean_squared_error, r2_score\n",
    "\n",
    "mse = mean_squared_error(ytest,test_predict)\n",
    "rmse = mean_squared_error(ytest,test_predict, squared=False)\n",
    "r2 = r2_score(ytest,test_predict)\n",
    "\n",
    "print('Mean Absolute Error:', mae)\n",
    "print('Mean Squared Error:', mse)\n",
    "print('Root Mean Squared Error:', rmse)\n",
    "print('R² Score:', r2)"
   ]
  },
  {
   "cell_type": "code",
   "execution_count": null,
   "id": "ac8dde4e",
   "metadata": {},
   "outputs": [],
   "source": []
  }
 ],
 "metadata": {
  "kernelspec": {
   "display_name": "Python 3 (ipykernel)",
   "language": "python",
   "name": "python3"
  },
  "language_info": {
   "codemirror_mode": {
    "name": "ipython",
    "version": 3
   },
   "file_extension": ".py",
   "mimetype": "text/x-python",
   "name": "python",
   "nbconvert_exporter": "python",
   "pygments_lexer": "ipython3",
   "version": "3.11.5"
  }
 },
 "nbformat": 4,
 "nbformat_minor": 5
}
